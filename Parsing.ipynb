{
  "nbformat": 4,
  "nbformat_minor": 0,
  "metadata": {
    "colab": {
      "name": "Parsing.ipynb",
      "provenance": [],
      "collapsed_sections": [],
      "authorship_tag": "ABX9TyMwexZFS+FT1dgkYcXkLrkR",
      "include_colab_link": true
    },
    "kernelspec": {
      "name": "python3",
      "display_name": "Python 3"
    }
  },
  "cells": [
    {
      "cell_type": "markdown",
      "metadata": {
        "id": "view-in-github",
        "colab_type": "text"
      },
      "source": [
        "<a href=\"https://colab.research.google.com/github/valerymamontov/colab_notebooks/blob/main/Parsing.ipynb\" target=\"_parent\"><img src=\"https://colab.research.google.com/assets/colab-badge.svg\" alt=\"Open In Colab\"/></a>"
      ]
    },
    {
      "cell_type": "markdown",
      "metadata": {
        "id": "fnysueLQZpk2"
      },
      "source": [
        "### Сбор данных с сайта и их простая визуализация\n",
        "\n",
        "Используется [таблица рождаемости в России за 1959-2020 год](https://worldtable.info/gosudarstvo/tablica-rozhdaemosti-po-godam-rossija.html).  \n",
        "Цель спарсить данные и визуализировать (показать на линейном графике тренд)."
      ]
    },
    {
      "cell_type": "code",
      "metadata": {
        "id": "njHHn_dUkOz2"
      },
      "source": [
        "import requests\n",
        "import pandas as pd\n",
        "import matplotlib.pyplot as plt\n",
        "from bs4 import BeautifulSoup\n",
        "\n",
        "url = \"https://worldtable.info/gosudarstvo/tablica-rozhdaemosti-po-godam-rossija.html\"\n",
        "r = requests.get(url)\n",
        "html = BeautifulSoup(r.content)\n",
        "\n",
        "data = []\n",
        "\n",
        "table = html.find(\"table\")\n",
        "for tr in table.find_all(\"tr\"):\n",
        "    data.append([td.get_text().replace(\" \", \"\") for td in tr.find_all(\"td\")])"
      ],
      "execution_count": null,
      "outputs": []
    },
    {
      "cell_type": "code",
      "metadata": {
        "id": "EQVSLYwRk_e9"
      },
      "source": [
        "df = pd.DataFrame(data[1:], columns=[\"year\", \"borned\"])\n",
        "df[\"borned\"] = df[\"borned\"].astype(\"int\") # приводим к инту\n",
        "df[\"year\"] = df[\"year\"].str.slice(0,4) # отрезаем первые четыре символа, т.е. год"
      ],
      "execution_count": null,
      "outputs": []
    },
    {
      "cell_type": "code",
      "metadata": {
        "id": "1Ao6wArulduO"
      },
      "source": [
        "df = df.set_index(\"year\")"
      ],
      "execution_count": null,
      "outputs": []
    },
    {
      "cell_type": "code",
      "metadata": {
        "id": "wXxuHI-ZpX9c",
        "colab": {
          "base_uri": "https://localhost:8080/",
          "height": 290
        },
        "outputId": "e254e363-5df5-4675-9f46-71d0ca9dd7ad"
      },
      "source": [
        "df.plot.line()\n",
        "plt.show()"
      ],
      "execution_count": null,
      "outputs": [
        {
          "output_type": "display_data",
          "data": {
            "image/png": "[encoded data removed]",
            "text/plain": [
              "<Figure size 432x288 with 1 Axes>"
            ]
          },
          "metadata": {
            "tags": [],
            "needs_background": "light"
          }
        }
      ]
    },
    {
      "cell_type": "code",
      "metadata": {
        "id": "xxWLFtFEpr_C"
      },
      "source": [
        ""
      ],
      "execution_count": null,
      "outputs": []
    }
  ]
}