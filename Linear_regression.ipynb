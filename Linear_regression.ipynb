{
  "nbformat": 4,
  "nbformat_minor": 0,
  "metadata": {
    "colab": {
      "name": "Linear_regression.ipynb",
      "provenance": [],
      "collapsed_sections": [],
      "authorship_tag": "ABX9TyNWErSGyx4aKUW1S1ccfNeA",
      "include_colab_link": true
    },
    "kernelspec": {
      "name": "python3",
      "display_name": "Python 3"
    }
  },
  "cells": [
    {
      "cell_type": "markdown",
      "metadata": {
        "id": "view-in-github",
        "colab_type": "text"
      },
      "source": [
        "<a href=\"https://colab.research.google.com/github/valerymamontov/colab_notebooks/blob/main/Linear_regression.ipynb\" target=\"_parent\"><img src=\"https://colab.research.google.com/assets/colab-badge.svg\" alt=\"Open In Colab\"/></a>"
      ]
    },
    {
      "cell_type": "markdown",
      "metadata": {
        "id": "V4e499ZlUIA0"
      },
      "source": [
        "## Линейная регрессия  \n",
        "Используется открытый набор данных по вызоввам пожарных машин в период с 2015 по 2019 годы в Москве.  \n",
        "Цель - спрогнозировать число вызовов на 2020 год.  \n",
        "В основу прогноза заложен метод линейной регрессии.  "
      ]
    },
    {
      "cell_type": "code",
      "metadata": {
        "id": "5vDgKbBEhpBM"
      },
      "source": [
        "import pandas as pd\n",
        "import numpy as np\n",
        "import matplotlib.pyplot as plt\n",
        "from sklearn.linear_model import LinearRegression"
      ],
      "execution_count": null,
      "outputs": []
    },
    {
      "cell_type": "code",
      "metadata": {
        "id": "_HmWqEZNnVTr"
      },
      "source": [
        "data = pd.read_csv(\"https://video.ittensive.com/python-advanced/data-5283-2019-10-04.utf.csv\", delimiter=\";\")"
      ],
      "execution_count": null,
      "outputs": []
    },
    {
      "cell_type": "code",
      "metadata": {
        "id": "dI5cUYjNqq7j",
        "colab": {
          "base_uri": "https://localhost:8080/",
          "height": 235
        },
        "outputId": "2d216175-a705-4145-ddb3-3ab8a6a96497"
      },
      "source": [
        "# нам нужно предсказать число вызовов пожарных машин на 2020 год\n",
        "# для этого:\n",
        "# группируем наши данные по столбцу год\n",
        "# считаем среднее\n",
        "data_avg = data.groupby(\"Year\").mean()\n",
        "data_avg"
      ],
      "execution_count": null,
      "outputs": [
        {
          "output_type": "execute_result",
          "data": {
            "text/html": [
              "<div>\n",
              "<style scoped>\n",
              "    .dataframe tbody tr th:only-of-type {\n",
              "        vertical-align: middle;\n",
              "    }\n",
              "\n",
              "    .dataframe tbody tr th {\n",
              "        vertical-align: top;\n",
              "    }\n",
              "\n",
              "    .dataframe thead th {\n",
              "        text-align: right;\n",
              "    }\n",
              "</style>\n",
              "<table border=\"1\" class=\"dataframe\">\n",
              "  <thead>\n",
              "    <tr style=\"text-align: right;\">\n",
              "      <th></th>\n",
              "      <th>ID</th>\n",
              "      <th>global_id</th>\n",
              "      <th>Calls</th>\n",
              "      <th>Unnamed: 6</th>\n",
              "    </tr>\n",
              "    <tr>\n",
              "      <th>Year</th>\n",
              "      <th></th>\n",
              "      <th></th>\n",
              "      <th></th>\n",
              "      <th></th>\n",
              "    </tr>\n",
              "  </thead>\n",
              "  <tbody>\n",
              "    <tr>\n",
              "      <th>2015</th>\n",
              "      <td>66.5</td>\n",
              "      <td>4.112174e+07</td>\n",
              "      <td>427.068182</td>\n",
              "      <td>NaN</td>\n",
              "    </tr>\n",
              "    <tr>\n",
              "      <th>2016</th>\n",
              "      <td>198.5</td>\n",
              "      <td>1.976907e+08</td>\n",
              "      <td>422.878788</td>\n",
              "      <td>NaN</td>\n",
              "    </tr>\n",
              "    <tr>\n",
              "      <th>2017</th>\n",
              "      <td>330.5</td>\n",
              "      <td>5.279323e+08</td>\n",
              "      <td>458.454545</td>\n",
              "      <td>NaN</td>\n",
              "    </tr>\n",
              "    <tr>\n",
              "      <th>2018</th>\n",
              "      <td>462.5</td>\n",
              "      <td>8.761135e+08</td>\n",
              "      <td>599.068182</td>\n",
              "      <td>NaN</td>\n",
              "    </tr>\n",
              "    <tr>\n",
              "      <th>2019</th>\n",
              "      <td>578.0</td>\n",
              "      <td>9.407799e+08</td>\n",
              "      <td>580.222222</td>\n",
              "      <td>NaN</td>\n",
              "    </tr>\n",
              "  </tbody>\n",
              "</table>\n",
              "</div>"
            ],
            "text/plain": [
              "         ID     global_id       Calls  Unnamed: 6\n",
              "Year                                             \n",
              "2015   66.5  4.112174e+07  427.068182         NaN\n",
              "2016  198.5  1.976907e+08  422.878788         NaN\n",
              "2017  330.5  5.279323e+08  458.454545         NaN\n",
              "2018  462.5  8.761135e+08  599.068182         NaN\n",
              "2019  578.0  9.407799e+08  580.222222         NaN"
            ]
          },
          "metadata": {
            "tags": []
          },
          "execution_count": 40
        }
      ]
    },
    {
      "cell_type": "code",
      "metadata": {
        "id": "c02gT_m2sg1A",
        "colab": {
          "base_uri": "https://localhost:8080/",
          "height": 34
        },
        "outputId": "d71dc346-3109-41ff-afa7-51b9f00a9f15"
      },
      "source": [
        "data_avg.index"
      ],
      "execution_count": null,
      "outputs": [
        {
          "output_type": "execute_result",
          "data": {
            "text/plain": [
              "Int64Index([2015, 2016, 2017, 2018, 2019], dtype='int64', name='Year')"
            ]
          },
          "metadata": {
            "tags": []
          },
          "execution_count": 5
        }
      ]
    },
    {
      "cell_type": "code",
      "metadata": {
        "id": "2iKE_4PJsnd3",
        "colab": {
          "base_uri": "https://localhost:8080/",
          "height": 34
        },
        "outputId": "96423337-01e4-4b6f-aeb3-ab984601dba2"
      },
      "source": [
        "len(data_avg.index)"
      ],
      "execution_count": null,
      "outputs": [
        {
          "output_type": "execute_result",
          "data": {
            "text/plain": [
              "5"
            ]
          },
          "metadata": {
            "tags": []
          },
          "execution_count": 6
        }
      ]
    },
    {
      "cell_type": "code",
      "metadata": {
        "id": "3dP0ag3YrKzO"
      },
      "source": [
        "# готовим модель линейной регрессии\n",
        "# берем индекс данных из нашей группы и преобразовываем его в таблицу\n",
        "# берем вызовы и делаем тоже самое\n",
        "\n",
        "x = np.array(data_avg.index).reshape(len(data_avg.index), 1)\n",
        "y = np.array(data_avg[\"Calls\"]).reshape(len(data_avg.index), 1)"
      ],
      "execution_count": null,
      "outputs": []
    },
    {
      "cell_type": "code",
      "metadata": {
        "id": "S3VTDaaCuHX7",
        "colab": {
          "base_uri": "https://localhost:8080/",
          "height": 204
        },
        "outputId": "ea3990b8-2749-442d-e58d-3489325a5660"
      },
      "source": [
        "print(x)\n",
        "print()\n",
        "print(y)"
      ],
      "execution_count": null,
      "outputs": [
        {
          "output_type": "stream",
          "text": [
            "[[2015]\n",
            " [2016]\n",
            " [2017]\n",
            " [2018]\n",
            " [2019]]\n",
            "\n",
            "[[427.06818182]\n",
            " [422.87878788]\n",
            " [458.45454545]\n",
            " [599.06818182]\n",
            " [580.22222222]]\n"
          ],
          "name": "stdout"
        }
      ]
    },
    {
      "cell_type": "code",
      "metadata": {
        "id": "KZPBl8RjwcqP",
        "colab": {
          "base_uri": "https://localhost:8080/",
          "height": 34
        },
        "outputId": "9479de9b-03f4-406f-ef1c-3ead414bad8f"
      },
      "source": [
        "model = LinearRegression()\n",
        "model.fit(x, y)\n",
        "# print(model.predict(np.array(2020).reshape(1, 1)))"
      ],
      "execution_count": null,
      "outputs": [
        {
          "output_type": "execute_result",
          "data": {
            "text/plain": [
              "LinearRegression(copy_X=True, fit_intercept=True, n_jobs=None, normalize=False)"
            ]
          },
          "metadata": {
            "tags": []
          },
          "execution_count": 42
        }
      ]
    },
    {
      "cell_type": "code",
      "metadata": {
        "id": "Uk922MXLzLic",
        "colab": {
          "base_uri": "https://localhost:8080/",
          "height": 266
        },
        "outputId": "cfc185a8-3260-4c32-cf9e-ad2ca3514930"
      },
      "source": [
        "# создадим график и добавим на него точки\n",
        "plt.scatter(x, y, color=\"orange\")\n",
        "# добавим в таблицу 2020 год и предсказанное значение\n",
        "x = np.append(x, [2020]).reshape(len(data_avg.index)+1, 1)\n",
        "plt.plot(x, model.predict(x), color=\"blue\", linewidth=3)\n",
        "plt.show()"
      ],
      "execution_count": null,
      "outputs": [
        {
          "output_type": "display_data",
          "data": {
            "image/png": "[encoded data removed]",
            "text/plain": [
              "<Figure size 432x288 with 1 Axes>"
            ]
          },
          "metadata": {
            "tags": [],
            "needs_background": "light"
          }
        }
      ]
    },
    {
      "cell_type": "code",
      "metadata": {
        "id": "WNgtkbAfzvop"
      },
      "source": [
        ""
      ],
      "execution_count": null,
      "outputs": []
    }
  ]
}