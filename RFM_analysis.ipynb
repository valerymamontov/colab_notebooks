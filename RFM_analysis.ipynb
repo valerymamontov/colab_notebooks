{
  "nbformat": 4,
  "nbformat_minor": 0,
  "metadata": {
    "colab": {
      "name": "RFM-анализ(сегментация).ipynb",
      "provenance": [],
      "collapsed_sections": [],
      "authorship_tag": "ABX9TyOsJctBevx2WrDuVeTtponq",
      "include_colab_link": true
    },
    "kernelspec": {
      "name": "python3",
      "display_name": "Python 3"
    },
    "language_info": {
      "name": "python"
    }
  },
  "cells": [
    {
      "cell_type": "markdown",
      "metadata": {
        "id": "view-in-github",
        "colab_type": "text"
      },
      "source": [
        "<a href=\"https://colab.research.google.com/github/valerymamontov/colab_notebooks/blob/main/RFM_analysis.ipynb\" target=\"_parent\"><img src=\"https://colab.research.google.com/assets/colab-badge.svg\" alt=\"Open In Colab\"/></a>"
      ]
    },
    {
      "cell_type": "markdown",
      "metadata": {
        "id": "kT3ngd4cEhri"
      },
      "source": [
        "## RFM-сегментация пользователей  \n",
        "  \n",
        "Для сегментации использовался тестовый набор, взятый в Интернете.  \n",
        "Датасет и описание - [ссылка](https://archive.ics.uci.edu/ml/datasets/online+retail#)  \n",
        "Загрузил себе в ВК - [ссылка](https://vk.com/doc526127569_581872137)  \n",
        "Данные датированы 2010-2011 годом.  \n",
        "Для обработки они загружены в бесплатный кластер DataBricks.  "
      ]
    },
    {
      "cell_type": "code",
      "metadata": {
        "application/vnd.databricks.v1+cell": {
          "title": "",
          "showTitle": false,
          "inputWidgets": {},
          "nuid": "ea886cae-6a95-4b6d-be34-23a2f4ff2801"
        },
        "id": "9w8ZMo04kGb8",
        "outputId": "87948f08-efb7-4ad1-d075-854cc8f2517d"
      },
      "source": [
        "# загрузка в databricks файла с данными выполнена через GUI\n",
        "# после загрузки файл попадет в папку dbfs:/FileStore/tables\n",
        "# такой путь нельзя использовать в pandas (возвращает ошибку, что файл не найден)\n",
        "# требуется скопировать файл в другой каталог, например, в file:/databricks/driver/\n",
        "# ссылка на документацию - https://kb.databricks.com/python/dbfs-file-size-limit.html\n",
        "\n",
        "# команды, вводить каждую в отдельной строке\n",
        "\n",
        "# %fs ls \"dbfs:/FileStore/tables\" - проверка файла после загрузки\n",
        "# %fs cp dbfs:/FileStore/tables/online_retail.csv file:/databricks/driver/data.csv - копирование файла\n",
        "# %fs ls \"file:/databricks/driver/\" - проверка после копирования"
      ],
      "execution_count": null,
      "outputs": [
        {
          "output_type": "display_data",
          "data": {
            "text/html": [
              "<style scoped>\n",
              "  .ansiout {\n",
              "    display: block;\n",
              "    unicode-bidi: embed;\n",
              "    white-space: pre-wrap;\n",
              "    word-wrap: break-word;\n",
              "    word-break: break-all;\n",
              "    font-family: \"Source Code Pro\", \"Menlo\", monospace;;\n",
              "    font-size: 13px;\n",
              "    color: #555;\n",
              "    margin-left: 4px;\n",
              "    line-height: 19px;\n",
              "  }\n",
              "</style>\n",
              "<div class=\"ansiout\"></div>"
            ]
          },
          "metadata": {
            "tags": [],
            "application/vnd.databricks.v1+output": {
              "datasetInfos": [],
              "data": "<div class=\"ansiout\"></div>",
              "removedWidgets": [],
              "addedWidgets": {},
              "type": "html",
              "arguments": {}
            }
          }
        }
      ]
    },
    {
      "cell_type": "code",
      "metadata": {
        "application/vnd.databricks.v1+cell": {
          "title": "",
          "showTitle": false,
          "inputWidgets": {},
          "nuid": "d30fab33-84b8-43ad-82a6-647baf75331b"
        },
        "id": "7emCThlLkGcD",
        "outputId": "6bb2fa84-9baf-42af-dcb3-69f2e562219c"
      },
      "source": [
        "# %fs cp dbfs:/FileStore/tables/online_retail.csv file:/databricks/driver/data.csv"
      ],
      "execution_count": null,
      "outputs": [
        {
          "output_type": "display_data",
          "data": {
            "text/html": [
              "<style scoped>\n",
              "  .ansiout {\n",
              "    display: block;\n",
              "    unicode-bidi: embed;\n",
              "    white-space: pre-wrap;\n",
              "    word-wrap: break-word;\n",
              "    word-break: break-all;\n",
              "    font-family: \"Source Code Pro\", \"Menlo\", monospace;;\n",
              "    font-size: 13px;\n",
              "    color: #555;\n",
              "    margin-left: 4px;\n",
              "    line-height: 19px;\n",
              "  }\n",
              "</style>\n",
              "<div class=\"ansiout\">res0: Boolean = true\n",
              "</div>"
            ]
          },
          "metadata": {
            "tags": [],
            "application/vnd.databricks.v1+output": {
              "datasetInfos": [],
              "data": "<div class=\"ansiout\">res0: Boolean = true\n</div>",
              "removedWidgets": [],
              "addedWidgets": {},
              "type": "html",
              "arguments": {}
            }
          }
        }
      ]
    },
    {
      "cell_type": "code",
      "metadata": {
        "application/vnd.databricks.v1+cell": {
          "title": "",
          "showTitle": false,
          "inputWidgets": {},
          "nuid": "cf3c0ca3-e450-47aa-8305-f52cd378a4e6"
        },
        "id": "1whpgTkEkGcE",
        "outputId": "78334a93-a4af-4611-c315-ac61096fe727"
      },
      "source": [
        "import pandas as pd\n",
        "import numpy as np\n",
        "from datetime import datetime, timedelta"
      ],
      "execution_count": null,
      "outputs": [
        {
          "output_type": "display_data",
          "data": {
            "text/html": [
              "<style scoped>\n",
              "  .ansiout {\n",
              "    display: block;\n",
              "    unicode-bidi: embed;\n",
              "    white-space: pre-wrap;\n",
              "    word-wrap: break-word;\n",
              "    word-break: break-all;\n",
              "    font-family: \"Source Code Pro\", \"Menlo\", monospace;;\n",
              "    font-size: 13px;\n",
              "    color: #555;\n",
              "    margin-left: 4px;\n",
              "    line-height: 19px;\n",
              "  }\n",
              "</style>\n",
              "<div class=\"ansiout\"></div>"
            ]
          },
          "metadata": {
            "tags": [],
            "application/vnd.databricks.v1+output": {
              "datasetInfos": [],
              "data": "<div class=\"ansiout\"></div>",
              "removedWidgets": [],
              "addedWidgets": {},
              "type": "html",
              "arguments": {}
            }
          }
        }
      ]
    },
    {
      "cell_type": "code",
      "metadata": {
        "application/vnd.databricks.v1+cell": {
          "title": "",
          "showTitle": false,
          "inputWidgets": {},
          "nuid": "5ff87f23-4b46-4eaa-8cb1-412a8baa3efe"
        },
        "id": "nmhukyN0kGcE",
        "outputId": "988c10ba-ee5e-45c5-a75d-f232abc3e6be"
      },
      "source": [
        "# ссылка на файл и схема (описание полей)\n",
        "# url = \"https://vk.com/doc526127569_581872137\"\n",
        "file = \"file:/databricks/driver/data.csv\"\n",
        "\n",
        "schema = {\n",
        "    'InvoiceNo': np.str, \n",
        "    'StockCode': np.str,\n",
        "    'Description': np.str, \n",
        "    'Quantity': np.int64, \n",
        "    'InvoiceDate': np.str,\n",
        "    'UnitPrice': np.float64, \n",
        "    'CustomerID': np.float64, \n",
        "    'Country': np.str,\n",
        "}"
      ],
      "execution_count": null,
      "outputs": [
        {
          "output_type": "display_data",
          "data": {
            "text/html": [
              "<style scoped>\n",
              "  .ansiout {\n",
              "    display: block;\n",
              "    unicode-bidi: embed;\n",
              "    white-space: pre-wrap;\n",
              "    word-wrap: break-word;\n",
              "    word-break: break-all;\n",
              "    font-family: \"Source Code Pro\", \"Menlo\", monospace;;\n",
              "    font-size: 13px;\n",
              "    color: #555;\n",
              "    margin-left: 4px;\n",
              "    line-height: 19px;\n",
              "  }\n",
              "</style>\n",
              "<div class=\"ansiout\"></div>"
            ]
          },
          "metadata": {
            "tags": [],
            "application/vnd.databricks.v1+output": {
              "datasetInfos": [],
              "data": "<div class=\"ansiout\"></div>",
              "removedWidgets": [],
              "addedWidgets": {},
              "type": "html",
              "arguments": {}
            }
          }
        }
      ]
    },
    {
      "cell_type": "code",
      "metadata": {
        "application/vnd.databricks.v1+cell": {
          "title": "",
          "showTitle": false,
          "inputWidgets": {},
          "nuid": "b8ee3fd7-221e-405b-8d81-d9ace12be5a7"
        },
        "id": "IPKUZs7ekGcF",
        "outputId": "2c8a80d2-143d-4237-e501-0b40063b03c7"
      },
      "source": [
        "# создание датафрейма\n",
        "df = pd.read_csv(file, dtype=schema, delimiter=\",\")\n",
        "df.head()"
      ],
      "execution_count": null,
      "outputs": [
        {
          "output_type": "display_data",
          "data": {
            "text/html": [
              "<style scoped>\n",
              "  .ansiout {\n",
              "    display: block;\n",
              "    unicode-bidi: embed;\n",
              "    white-space: pre-wrap;\n",
              "    word-wrap: break-word;\n",
              "    word-break: break-all;\n",
              "    font-family: \"Source Code Pro\", \"Menlo\", monospace;;\n",
              "    font-size: 13px;\n",
              "    color: #555;\n",
              "    margin-left: 4px;\n",
              "    line-height: 19px;\n",
              "  }\n",
              "</style>\n",
              "<div class=\"ansiout\">Out[62]: </div>"
            ]
          },
          "metadata": {
            "tags": [],
            "application/vnd.databricks.v1+output": {
              "datasetInfos": [],
              "data": "<div class=\"ansiout\">Out[62]: </div>",
              "removedWidgets": [],
              "addedWidgets": {},
              "type": "html",
              "arguments": {}
            }
          }
        },
        {
          "output_type": "display_data",
          "data": {
            "text/html": [
              "<div>\n",
              "<style scoped>\n",
              "    .dataframe tbody tr th:only-of-type {\n",
              "        vertical-align: middle;\n",
              "    }\n",
              "\n",
              "    .dataframe tbody tr th {\n",
              "        vertical-align: top;\n",
              "    }\n",
              "\n",
              "    .dataframe thead th {\n",
              "        text-align: right;\n",
              "    }\n",
              "</style>\n",
              "<table border=\"1\" class=\"dataframe\">\n",
              "  <thead>\n",
              "    <tr style=\"text-align: right;\">\n",
              "      <th></th>\n",
              "      <th>InvoiceNo</th>\n",
              "      <th>StockCode</th>\n",
              "      <th>Description</th>\n",
              "      <th>Quantity</th>\n",
              "      <th>InvoiceDate</th>\n",
              "      <th>UnitPrice</th>\n",
              "      <th>CustomerID</th>\n",
              "      <th>Country</th>\n",
              "    </tr>\n",
              "  </thead>\n",
              "  <tbody>\n",
              "    <tr>\n",
              "      <th>0</th>\n",
              "      <td>536365</td>\n",
              "      <td>85123A</td>\n",
              "      <td>WHITE HANGING HEART T-LIGHT HOLDER</td>\n",
              "      <td>6</td>\n",
              "      <td>01.12.2010 8:26:00</td>\n",
              "      <td>2.55</td>\n",
              "      <td>17850.0</td>\n",
              "      <td>United Kingdom</td>\n",
              "    </tr>\n",
              "    <tr>\n",
              "      <th>1</th>\n",
              "      <td>536365</td>\n",
              "      <td>71053</td>\n",
              "      <td>WHITE METAL LANTERN</td>\n",
              "      <td>6</td>\n",
              "      <td>01.12.2010 8:26:00</td>\n",
              "      <td>3.39</td>\n",
              "      <td>17850.0</td>\n",
              "      <td>United Kingdom</td>\n",
              "    </tr>\n",
              "    <tr>\n",
              "      <th>2</th>\n",
              "      <td>536365</td>\n",
              "      <td>84406B</td>\n",
              "      <td>CREAM CUPID HEARTS COAT HANGER</td>\n",
              "      <td>8</td>\n",
              "      <td>01.12.2010 8:26:00</td>\n",
              "      <td>2.75</td>\n",
              "      <td>17850.0</td>\n",
              "      <td>United Kingdom</td>\n",
              "    </tr>\n",
              "    <tr>\n",
              "      <th>3</th>\n",
              "      <td>536365</td>\n",
              "      <td>84029G</td>\n",
              "      <td>KNITTED UNION FLAG HOT WATER BOTTLE</td>\n",
              "      <td>6</td>\n",
              "      <td>01.12.2010 8:26:00</td>\n",
              "      <td>3.39</td>\n",
              "      <td>17850.0</td>\n",
              "      <td>United Kingdom</td>\n",
              "    </tr>\n",
              "    <tr>\n",
              "      <th>4</th>\n",
              "      <td>536365</td>\n",
              "      <td>84029E</td>\n",
              "      <td>RED WOOLLY HOTTIE WHITE HEART.</td>\n",
              "      <td>6</td>\n",
              "      <td>01.12.2010 8:26:00</td>\n",
              "      <td>3.39</td>\n",
              "      <td>17850.0</td>\n",
              "      <td>United Kingdom</td>\n",
              "    </tr>\n",
              "  </tbody>\n",
              "</table>\n",
              "</div>"
            ]
          },
          "metadata": {
            "tags": [],
            "application/vnd.databricks.v1+output": {
              "datasetInfos": [],
              "data": "<div>\n<style scoped>\n    .dataframe tbody tr th:only-of-type {\n        vertical-align: middle;\n    }\n\n    .dataframe tbody tr th {\n        vertical-align: top;\n    }\n\n    .dataframe thead th {\n        text-align: right;\n    }\n</style>\n<table border=\"1\" class=\"dataframe\">\n  <thead>\n    <tr style=\"text-align: right;\">\n      <th></th>\n      <th>InvoiceNo</th>\n      <th>StockCode</th>\n      <th>Description</th>\n      <th>Quantity</th>\n      <th>InvoiceDate</th>\n      <th>UnitPrice</th>\n      <th>CustomerID</th>\n      <th>Country</th>\n    </tr>\n  </thead>\n  <tbody>\n    <tr>\n      <th>0</th>\n      <td>536365</td>\n      <td>85123A</td>\n      <td>WHITE HANGING HEART T-LIGHT HOLDER</td>\n      <td>6</td>\n      <td>01.12.2010 8:26:00</td>\n      <td>2.55</td>\n      <td>17850.0</td>\n      <td>United Kingdom</td>\n    </tr>\n    <tr>\n      <th>1</th>\n      <td>536365</td>\n      <td>71053</td>\n      <td>WHITE METAL LANTERN</td>\n      <td>6</td>\n      <td>01.12.2010 8:26:00</td>\n      <td>3.39</td>\n      <td>17850.0</td>\n      <td>United Kingdom</td>\n    </tr>\n    <tr>\n      <th>2</th>\n      <td>536365</td>\n      <td>84406B</td>\n      <td>CREAM CUPID HEARTS COAT HANGER</td>\n      <td>8</td>\n      <td>01.12.2010 8:26:00</td>\n      <td>2.75</td>\n      <td>17850.0</td>\n      <td>United Kingdom</td>\n    </tr>\n    <tr>\n      <th>3</th>\n      <td>536365</td>\n      <td>84029G</td>\n      <td>KNITTED UNION FLAG HOT WATER BOTTLE</td>\n      <td>6</td>\n      <td>01.12.2010 8:26:00</td>\n      <td>3.39</td>\n      <td>17850.0</td>\n      <td>United Kingdom</td>\n    </tr>\n    <tr>\n      <th>4</th>\n      <td>536365</td>\n      <td>84029E</td>\n      <td>RED WOOLLY HOTTIE WHITE HEART.</td>\n      <td>6</td>\n      <td>01.12.2010 8:26:00</td>\n      <td>3.39</td>\n      <td>17850.0</td>\n      <td>United Kingdom</td>\n    </tr>\n  </tbody>\n</table>\n</div>",
              "textData": null,
              "removedWidgets": [],
              "addedWidgets": {},
              "type": "htmlSandbox",
              "arguments": {}
            }
          }
        }
      ]
    },
    {
      "cell_type": "code",
      "metadata": {
        "application/vnd.databricks.v1+cell": {
          "title": "",
          "showTitle": false,
          "inputWidgets": {},
          "nuid": "e86197df-0a03-4cc5-8e5e-516e200fa011"
        },
        "id": "Lfu6tHidkGcF",
        "outputId": "6688a6e7-c2cd-47d7-cb2f-bb5796ba6c6a"
      },
      "source": [
        "# анализ датафрейма на наличие пустых значений\n",
        "df.isnull().sum()"
      ],
      "execution_count": null,
      "outputs": [
        {
          "output_type": "display_data",
          "data": {
            "text/html": [
              "<style scoped>\n",
              "  .ansiout {\n",
              "    display: block;\n",
              "    unicode-bidi: embed;\n",
              "    white-space: pre-wrap;\n",
              "    word-wrap: break-word;\n",
              "    word-break: break-all;\n",
              "    font-family: \"Source Code Pro\", \"Menlo\", monospace;;\n",
              "    font-size: 13px;\n",
              "    color: #555;\n",
              "    margin-left: 4px;\n",
              "    line-height: 19px;\n",
              "  }\n",
              "</style>\n",
              "<div class=\"ansiout\">Out[63]: InvoiceNo           0\n",
              "StockCode           0\n",
              "Description      1454\n",
              "Quantity            0\n",
              "InvoiceDate         0\n",
              "UnitPrice           0\n",
              "CustomerID     135080\n",
              "Country             0\n",
              "dtype: int64</div>"
            ]
          },
          "metadata": {
            "tags": [],
            "application/vnd.databricks.v1+output": {
              "datasetInfos": [],
              "data": "<div class=\"ansiout\">Out[63]: InvoiceNo           0\nStockCode           0\nDescription      1454\nQuantity            0\nInvoiceDate         0\nUnitPrice           0\nCustomerID     135080\nCountry             0\ndtype: int64</div>",
              "removedWidgets": [],
              "addedWidgets": {},
              "type": "html",
              "arguments": {}
            }
          }
        }
      ]
    },
    {
      "cell_type": "code",
      "metadata": {
        "application/vnd.databricks.v1+cell": {
          "title": "",
          "showTitle": false,
          "inputWidgets": {},
          "nuid": "3ccc83a3-bd6f-47f3-9b6c-403bb38f9ea6"
        },
        "id": "c6S3OtNMkGcF",
        "outputId": "ae41b50f-6894-45c8-8dd5-539a16f227cb"
      },
      "source": [
        "# удаление строк с пустыми значениями в столбце CustomerID\n",
        "df.dropna(subset=[\"CustomerID\"], inplace=True)"
      ],
      "execution_count": null,
      "outputs": [
        {
          "output_type": "display_data",
          "data": {
            "text/html": [
              "<style scoped>\n",
              "  .ansiout {\n",
              "    display: block;\n",
              "    unicode-bidi: embed;\n",
              "    white-space: pre-wrap;\n",
              "    word-wrap: break-word;\n",
              "    word-break: break-all;\n",
              "    font-family: \"Source Code Pro\", \"Menlo\", monospace;;\n",
              "    font-size: 13px;\n",
              "    color: #555;\n",
              "    margin-left: 4px;\n",
              "    line-height: 19px;\n",
              "  }\n",
              "</style>\n",
              "<div class=\"ansiout\"></div>"
            ]
          },
          "metadata": {
            "tags": [],
            "application/vnd.databricks.v1+output": {
              "datasetInfos": [],
              "data": "<div class=\"ansiout\"></div>",
              "removedWidgets": [],
              "addedWidgets": {},
              "type": "html",
              "arguments": {}
            }
          }
        }
      ]
    },
    {
      "cell_type": "code",
      "metadata": {
        "application/vnd.databricks.v1+cell": {
          "title": "",
          "showTitle": false,
          "inputWidgets": {},
          "nuid": "20e4cb5c-3981-4e10-b664-2ebf00b6dccd"
        },
        "id": "Hyd-7uE0kGcG",
        "outputId": "65721e5e-530f-4b18-ef94-a66f98827488"
      },
      "source": [
        "# преобразование столбца InvoiceDate в дату\n",
        "df[\"InvoiceDate2\"] = df.InvoiceDate.apply(lambda x: datetime.strptime(x.split(\" \")[0], \"%d.%m.%Y\"))"
      ],
      "execution_count": null,
      "outputs": [
        {
          "output_type": "display_data",
          "data": {
            "text/html": [
              "<style scoped>\n",
              "  .ansiout {\n",
              "    display: block;\n",
              "    unicode-bidi: embed;\n",
              "    white-space: pre-wrap;\n",
              "    word-wrap: break-word;\n",
              "    word-break: break-all;\n",
              "    font-family: \"Source Code Pro\", \"Menlo\", monospace;;\n",
              "    font-size: 13px;\n",
              "    color: #555;\n",
              "    margin-left: 4px;\n",
              "    line-height: 19px;\n",
              "  }\n",
              "</style>\n",
              "<div class=\"ansiout\"></div>"
            ]
          },
          "metadata": {
            "tags": [],
            "application/vnd.databricks.v1+output": {
              "datasetInfos": [],
              "data": "<div class=\"ansiout\"></div>",
              "removedWidgets": [],
              "addedWidgets": {},
              "type": "html",
              "arguments": {}
            }
          }
        }
      ]
    },
    {
      "cell_type": "code",
      "metadata": {
        "application/vnd.databricks.v1+cell": {
          "title": "",
          "showTitle": false,
          "inputWidgets": {},
          "nuid": "75499cae-8050-4f98-b2f0-96a9da52c1fe"
        },
        "id": "VJKU9G0fkGcG",
        "outputId": "8d10b64a-1a42-4de6-bd1d-c1564fa05aba"
      },
      "source": [
        "# как оказалось, в столбце Quantity (количество) присутствует большое число отрицательных чисел\n",
        "df.query(\"Quantity < 0\")"
      ],
      "execution_count": null,
      "outputs": [
        {
          "output_type": "display_data",
          "data": {
            "text/html": [
              "<style scoped>\n",
              "  .ansiout {\n",
              "    display: block;\n",
              "    unicode-bidi: embed;\n",
              "    white-space: pre-wrap;\n",
              "    word-wrap: break-word;\n",
              "    word-break: break-all;\n",
              "    font-family: \"Source Code Pro\", \"Menlo\", monospace;;\n",
              "    font-size: 13px;\n",
              "    color: #555;\n",
              "    margin-left: 4px;\n",
              "    line-height: 19px;\n",
              "  }\n",
              "</style>\n",
              "<div class=\"ansiout\">Out[66]: </div>"
            ]
          },
          "metadata": {
            "tags": [],
            "application/vnd.databricks.v1+output": {
              "datasetInfos": [],
              "data": "<div class=\"ansiout\">Out[66]: </div>",
              "removedWidgets": [],
              "addedWidgets": {},
              "type": "html",
              "arguments": {}
            }
          }
        },
        {
          "output_type": "display_data",
          "data": {
            "text/html": [
              "<div>\n",
              "<style scoped>\n",
              "    .dataframe tbody tr th:only-of-type {\n",
              "        vertical-align: middle;\n",
              "    }\n",
              "\n",
              "    .dataframe tbody tr th {\n",
              "        vertical-align: top;\n",
              "    }\n",
              "\n",
              "    .dataframe thead th {\n",
              "        text-align: right;\n",
              "    }\n",
              "</style>\n",
              "<table border=\"1\" class=\"dataframe\">\n",
              "  <thead>\n",
              "    <tr style=\"text-align: right;\">\n",
              "      <th></th>\n",
              "      <th>InvoiceNo</th>\n",
              "      <th>StockCode</th>\n",
              "      <th>Description</th>\n",
              "      <th>Quantity</th>\n",
              "      <th>InvoiceDate</th>\n",
              "      <th>UnitPrice</th>\n",
              "      <th>CustomerID</th>\n",
              "      <th>Country</th>\n",
              "      <th>InvoiceDate2</th>\n",
              "    </tr>\n",
              "  </thead>\n",
              "  <tbody>\n",
              "    <tr>\n",
              "      <th>141</th>\n",
              "      <td>C536379</td>\n",
              "      <td>D</td>\n",
              "      <td>Discount</td>\n",
              "      <td>-1</td>\n",
              "      <td>01.12.2010 9:41:00</td>\n",
              "      <td>27.50</td>\n",
              "      <td>14527.0</td>\n",
              "      <td>United Kingdom</td>\n",
              "      <td>2010-12-01</td>\n",
              "    </tr>\n",
              "    <tr>\n",
              "      <th>154</th>\n",
              "      <td>C536383</td>\n",
              "      <td>35004C</td>\n",
              "      <td>SET OF 3 COLOURED  FLYING DUCKS</td>\n",
              "      <td>-1</td>\n",
              "      <td>01.12.2010 9:49:00</td>\n",
              "      <td>4.65</td>\n",
              "      <td>15311.0</td>\n",
              "      <td>United Kingdom</td>\n",
              "      <td>2010-12-01</td>\n",
              "    </tr>\n",
              "    <tr>\n",
              "      <th>235</th>\n",
              "      <td>C536391</td>\n",
              "      <td>22556</td>\n",
              "      <td>PLASTERS IN TIN CIRCUS PARADE</td>\n",
              "      <td>-12</td>\n",
              "      <td>01.12.2010 10:24:00</td>\n",
              "      <td>1.65</td>\n",
              "      <td>17548.0</td>\n",
              "      <td>United Kingdom</td>\n",
              "      <td>2010-12-01</td>\n",
              "    </tr>\n",
              "    <tr>\n",
              "      <th>236</th>\n",
              "      <td>C536391</td>\n",
              "      <td>21984</td>\n",
              "      <td>PACK OF 12 PINK PAISLEY TISSUES</td>\n",
              "      <td>-24</td>\n",
              "      <td>01.12.2010 10:24:00</td>\n",
              "      <td>0.29</td>\n",
              "      <td>17548.0</td>\n",
              "      <td>United Kingdom</td>\n",
              "      <td>2010-12-01</td>\n",
              "    </tr>\n",
              "    <tr>\n",
              "      <th>237</th>\n",
              "      <td>C536391</td>\n",
              "      <td>21983</td>\n",
              "      <td>PACK OF 12 BLUE PAISLEY TISSUES</td>\n",
              "      <td>-24</td>\n",
              "      <td>01.12.2010 10:24:00</td>\n",
              "      <td>0.29</td>\n",
              "      <td>17548.0</td>\n",
              "      <td>United Kingdom</td>\n",
              "      <td>2010-12-01</td>\n",
              "    </tr>\n",
              "    <tr>\n",
              "      <th>...</th>\n",
              "      <td>...</td>\n",
              "      <td>...</td>\n",
              "      <td>...</td>\n",
              "      <td>...</td>\n",
              "      <td>...</td>\n",
              "      <td>...</td>\n",
              "      <td>...</td>\n",
              "      <td>...</td>\n",
              "      <td>...</td>\n",
              "    </tr>\n",
              "    <tr>\n",
              "      <th>540449</th>\n",
              "      <td>C581490</td>\n",
              "      <td>23144</td>\n",
              "      <td>ZINC T-LIGHT HOLDER STARS SMALL</td>\n",
              "      <td>-11</td>\n",
              "      <td>09.12.2011 9:57:00</td>\n",
              "      <td>0.83</td>\n",
              "      <td>14397.0</td>\n",
              "      <td>United Kingdom</td>\n",
              "      <td>2011-12-09</td>\n",
              "    </tr>\n",
              "    <tr>\n",
              "      <th>541541</th>\n",
              "      <td>C581499</td>\n",
              "      <td>M</td>\n",
              "      <td>Manual</td>\n",
              "      <td>-1</td>\n",
              "      <td>09.12.2011 10:28:00</td>\n",
              "      <td>224.69</td>\n",
              "      <td>15498.0</td>\n",
              "      <td>United Kingdom</td>\n",
              "      <td>2011-12-09</td>\n",
              "    </tr>\n",
              "    <tr>\n",
              "      <th>541715</th>\n",
              "      <td>C581568</td>\n",
              "      <td>21258</td>\n",
              "      <td>VICTORIAN SEWING BOX LARGE</td>\n",
              "      <td>-5</td>\n",
              "      <td>09.12.2011 11:57:00</td>\n",
              "      <td>10.95</td>\n",
              "      <td>15311.0</td>\n",
              "      <td>United Kingdom</td>\n",
              "      <td>2011-12-09</td>\n",
              "    </tr>\n",
              "    <tr>\n",
              "      <th>541716</th>\n",
              "      <td>C581569</td>\n",
              "      <td>84978</td>\n",
              "      <td>HANGING HEART JAR T-LIGHT HOLDER</td>\n",
              "      <td>-1</td>\n",
              "      <td>09.12.2011 11:58:00</td>\n",
              "      <td>1.25</td>\n",
              "      <td>17315.0</td>\n",
              "      <td>United Kingdom</td>\n",
              "      <td>2011-12-09</td>\n",
              "    </tr>\n",
              "    <tr>\n",
              "      <th>541717</th>\n",
              "      <td>C581569</td>\n",
              "      <td>20979</td>\n",
              "      <td>36 PENCILS TUBE RED RETROSPOT</td>\n",
              "      <td>-5</td>\n",
              "      <td>09.12.2011 11:58:00</td>\n",
              "      <td>1.25</td>\n",
              "      <td>17315.0</td>\n",
              "      <td>United Kingdom</td>\n",
              "      <td>2011-12-09</td>\n",
              "    </tr>\n",
              "  </tbody>\n",
              "</table>\n",
              "<p>8905 rows × 9 columns</p>\n",
              "</div>"
            ]
          },
          "metadata": {
            "tags": [],
            "application/vnd.databricks.v1+output": {
              "datasetInfos": [],
              "data": "<div>\n<style scoped>\n    .dataframe tbody tr th:only-of-type {\n        vertical-align: middle;\n    }\n\n    .dataframe tbody tr th {\n        vertical-align: top;\n    }\n\n    .dataframe thead th {\n        text-align: right;\n    }\n</style>\n<table border=\"1\" class=\"dataframe\">\n  <thead>\n    <tr style=\"text-align: right;\">\n      <th></th>\n      <th>InvoiceNo</th>\n      <th>StockCode</th>\n      <th>Description</th>\n      <th>Quantity</th>\n      <th>InvoiceDate</th>\n      <th>UnitPrice</th>\n      <th>CustomerID</th>\n      <th>Country</th>\n      <th>InvoiceDate2</th>\n    </tr>\n  </thead>\n  <tbody>\n    <tr>\n      <th>141</th>\n      <td>C536379</td>\n      <td>D</td>\n      <td>Discount</td>\n      <td>-1</td>\n      <td>01.12.2010 9:41:00</td>\n      <td>27.50</td>\n      <td>14527.0</td>\n      <td>United Kingdom</td>\n      <td>2010-12-01</td>\n    </tr>\n    <tr>\n      <th>154</th>\n      <td>C536383</td>\n      <td>35004C</td>\n      <td>SET OF 3 COLOURED  FLYING DUCKS</td>\n      <td>-1</td>\n      <td>01.12.2010 9:49:00</td>\n      <td>4.65</td>\n      <td>15311.0</td>\n      <td>United Kingdom</td>\n      <td>2010-12-01</td>\n    </tr>\n    <tr>\n      <th>235</th>\n      <td>C536391</td>\n      <td>22556</td>\n      <td>PLASTERS IN TIN CIRCUS PARADE</td>\n      <td>-12</td>\n      <td>01.12.2010 10:24:00</td>\n      <td>1.65</td>\n      <td>17548.0</td>\n      <td>United Kingdom</td>\n      <td>2010-12-01</td>\n    </tr>\n    <tr>\n      <th>236</th>\n      <td>C536391</td>\n      <td>21984</td>\n      <td>PACK OF 12 PINK PAISLEY TISSUES</td>\n      <td>-24</td>\n      <td>01.12.2010 10:24:00</td>\n      <td>0.29</td>\n      <td>17548.0</td>\n      <td>United Kingdom</td>\n      <td>2010-12-01</td>\n    </tr>\n    <tr>\n      <th>237</th>\n      <td>C536391</td>\n      <td>21983</td>\n      <td>PACK OF 12 BLUE PAISLEY TISSUES</td>\n      <td>-24</td>\n      <td>01.12.2010 10:24:00</td>\n      <td>0.29</td>\n      <td>17548.0</td>\n      <td>United Kingdom</td>\n      <td>2010-12-01</td>\n    </tr>\n    <tr>\n      <th>...</th>\n      <td>...</td>\n      <td>...</td>\n      <td>...</td>\n      <td>...</td>\n      <td>...</td>\n      <td>...</td>\n      <td>...</td>\n      <td>...</td>\n      <td>...</td>\n    </tr>\n    <tr>\n      <th>540449</th>\n      <td>C581490</td>\n      <td>23144</td>\n      <td>ZINC T-LIGHT HOLDER STARS SMALL</td>\n      <td>-11</td>\n      <td>09.12.2011 9:57:00</td>\n      <td>0.83</td>\n      <td>14397.0</td>\n      <td>United Kingdom</td>\n      <td>2011-12-09</td>\n    </tr>\n    <tr>\n      <th>541541</th>\n      <td>C581499</td>\n      <td>M</td>\n      <td>Manual</td>\n      <td>-1</td>\n      <td>09.12.2011 10:28:00</td>\n      <td>224.69</td>\n      <td>15498.0</td>\n      <td>United Kingdom</td>\n      <td>2011-12-09</td>\n    </tr>\n    <tr>\n      <th>541715</th>\n      <td>C581568</td>\n      <td>21258</td>\n      <td>VICTORIAN SEWING BOX LARGE</td>\n      <td>-5</td>\n      <td>09.12.2011 11:57:00</td>\n      <td>10.95</td>\n      <td>15311.0</td>\n      <td>United Kingdom</td>\n      <td>2011-12-09</td>\n    </tr>\n    <tr>\n      <th>541716</th>\n      <td>C581569</td>\n      <td>84978</td>\n      <td>HANGING HEART JAR T-LIGHT HOLDER</td>\n      <td>-1</td>\n      <td>09.12.2011 11:58:00</td>\n      <td>1.25</td>\n      <td>17315.0</td>\n      <td>United Kingdom</td>\n      <td>2011-12-09</td>\n    </tr>\n    <tr>\n      <th>541717</th>\n      <td>C581569</td>\n      <td>20979</td>\n      <td>36 PENCILS TUBE RED RETROSPOT</td>\n      <td>-5</td>\n      <td>09.12.2011 11:58:00</td>\n      <td>1.25</td>\n      <td>17315.0</td>\n      <td>United Kingdom</td>\n      <td>2011-12-09</td>\n    </tr>\n  </tbody>\n</table>\n<p>8905 rows × 9 columns</p>\n</div>",
              "textData": null,
              "removedWidgets": [],
              "addedWidgets": {},
              "type": "htmlSandbox",
              "arguments": {}
            }
          }
        }
      ]
    },
    {
      "cell_type": "code",
      "metadata": {
        "application/vnd.databricks.v1+cell": {
          "title": "",
          "showTitle": false,
          "inputWidgets": {},
          "nuid": "7f2625bb-c823-4bb1-8e22-2add060d6b3e"
        },
        "id": "rCqcBAvVkGcG",
        "outputId": "875e8fa8-fb96-4531-b70c-3dc764c5915c"
      },
      "source": [
        "# очевидно это отмененные заказы\n",
        "df.query(\"CustomerID == 12346.0\")"
      ],
      "execution_count": null,
      "outputs": [
        {
          "output_type": "display_data",
          "data": {
            "text/html": [
              "<style scoped>\n",
              "  .ansiout {\n",
              "    display: block;\n",
              "    unicode-bidi: embed;\n",
              "    white-space: pre-wrap;\n",
              "    word-wrap: break-word;\n",
              "    word-break: break-all;\n",
              "    font-family: \"Source Code Pro\", \"Menlo\", monospace;;\n",
              "    font-size: 13px;\n",
              "    color: #555;\n",
              "    margin-left: 4px;\n",
              "    line-height: 19px;\n",
              "  }\n",
              "</style>\n",
              "<div class=\"ansiout\">Out[67]: </div>"
            ]
          },
          "metadata": {
            "tags": [],
            "application/vnd.databricks.v1+output": {
              "datasetInfos": [],
              "data": "<div class=\"ansiout\">Out[67]: </div>",
              "removedWidgets": [],
              "addedWidgets": {},
              "type": "html",
              "arguments": {}
            }
          }
        },
        {
          "output_type": "display_data",
          "data": {
            "text/html": [
              "<div>\n",
              "<style scoped>\n",
              "    .dataframe tbody tr th:only-of-type {\n",
              "        vertical-align: middle;\n",
              "    }\n",
              "\n",
              "    .dataframe tbody tr th {\n",
              "        vertical-align: top;\n",
              "    }\n",
              "\n",
              "    .dataframe thead th {\n",
              "        text-align: right;\n",
              "    }\n",
              "</style>\n",
              "<table border=\"1\" class=\"dataframe\">\n",
              "  <thead>\n",
              "    <tr style=\"text-align: right;\">\n",
              "      <th></th>\n",
              "      <th>InvoiceNo</th>\n",
              "      <th>StockCode</th>\n",
              "      <th>Description</th>\n",
              "      <th>Quantity</th>\n",
              "      <th>InvoiceDate</th>\n",
              "      <th>UnitPrice</th>\n",
              "      <th>CustomerID</th>\n",
              "      <th>Country</th>\n",
              "      <th>InvoiceDate2</th>\n",
              "    </tr>\n",
              "  </thead>\n",
              "  <tbody>\n",
              "    <tr>\n",
              "      <th>61619</th>\n",
              "      <td>541431</td>\n",
              "      <td>23166</td>\n",
              "      <td>MEDIUM CERAMIC TOP STORAGE JAR</td>\n",
              "      <td>74215</td>\n",
              "      <td>18.01.2011 10:01:00</td>\n",
              "      <td>1.04</td>\n",
              "      <td>12346.0</td>\n",
              "      <td>United Kingdom</td>\n",
              "      <td>2011-01-18</td>\n",
              "    </tr>\n",
              "    <tr>\n",
              "      <th>61624</th>\n",
              "      <td>C541433</td>\n",
              "      <td>23166</td>\n",
              "      <td>MEDIUM CERAMIC TOP STORAGE JAR</td>\n",
              "      <td>-74215</td>\n",
              "      <td>18.01.2011 10:17:00</td>\n",
              "      <td>1.04</td>\n",
              "      <td>12346.0</td>\n",
              "      <td>United Kingdom</td>\n",
              "      <td>2011-01-18</td>\n",
              "    </tr>\n",
              "  </tbody>\n",
              "</table>\n",
              "</div>"
            ]
          },
          "metadata": {
            "tags": [],
            "application/vnd.databricks.v1+output": {
              "datasetInfos": [],
              "data": "<div>\n<style scoped>\n    .dataframe tbody tr th:only-of-type {\n        vertical-align: middle;\n    }\n\n    .dataframe tbody tr th {\n        vertical-align: top;\n    }\n\n    .dataframe thead th {\n        text-align: right;\n    }\n</style>\n<table border=\"1\" class=\"dataframe\">\n  <thead>\n    <tr style=\"text-align: right;\">\n      <th></th>\n      <th>InvoiceNo</th>\n      <th>StockCode</th>\n      <th>Description</th>\n      <th>Quantity</th>\n      <th>InvoiceDate</th>\n      <th>UnitPrice</th>\n      <th>CustomerID</th>\n      <th>Country</th>\n      <th>InvoiceDate2</th>\n    </tr>\n  </thead>\n  <tbody>\n    <tr>\n      <th>61619</th>\n      <td>541431</td>\n      <td>23166</td>\n      <td>MEDIUM CERAMIC TOP STORAGE JAR</td>\n      <td>74215</td>\n      <td>18.01.2011 10:01:00</td>\n      <td>1.04</td>\n      <td>12346.0</td>\n      <td>United Kingdom</td>\n      <td>2011-01-18</td>\n    </tr>\n    <tr>\n      <th>61624</th>\n      <td>C541433</td>\n      <td>23166</td>\n      <td>MEDIUM CERAMIC TOP STORAGE JAR</td>\n      <td>-74215</td>\n      <td>18.01.2011 10:17:00</td>\n      <td>1.04</td>\n      <td>12346.0</td>\n      <td>United Kingdom</td>\n      <td>2011-01-18</td>\n    </tr>\n  </tbody>\n</table>\n</div>",
              "textData": null,
              "removedWidgets": [],
              "addedWidgets": {},
              "type": "htmlSandbox",
              "arguments": {}
            }
          }
        }
      ]
    },
    {
      "cell_type": "code",
      "metadata": {
        "application/vnd.databricks.v1+cell": {
          "title": "",
          "showTitle": false,
          "inputWidgets": {},
          "nuid": "97e071fe-18da-44a3-b181-753777575cbe"
        },
        "id": "NjaAnW26kGcH",
        "outputId": "d84b94e3-cc7c-42f5-de82-2238cfe3d96b"
      },
      "source": [
        "# при группировке такие заказы схлопнутся, в сумме дадут ноль\n",
        "# однако, если столбец Quantity в сумме даст ноль, то столбец  UnitPrice - нет\n",
        "\n",
        "# для решения этой проблемы будет добавлен новый столбец (Quantity*UnitPrice)\n",
        "df[\"Price\"] = df[\"Quantity\"] * df[\"UnitPrice\"]\n",
        "df.head()"
      ],
      "execution_count": null,
      "outputs": [
        {
          "output_type": "display_data",
          "data": {
            "text/html": [
              "<style scoped>\n",
              "  .ansiout {\n",
              "    display: block;\n",
              "    unicode-bidi: embed;\n",
              "    white-space: pre-wrap;\n",
              "    word-wrap: break-word;\n",
              "    word-break: break-all;\n",
              "    font-family: \"Source Code Pro\", \"Menlo\", monospace;;\n",
              "    font-size: 13px;\n",
              "    color: #555;\n",
              "    margin-left: 4px;\n",
              "    line-height: 19px;\n",
              "  }\n",
              "</style>\n",
              "<div class=\"ansiout\">Out[68]: </div>"
            ]
          },
          "metadata": {
            "tags": [],
            "application/vnd.databricks.v1+output": {
              "datasetInfos": [],
              "data": "<div class=\"ansiout\">Out[68]: </div>",
              "removedWidgets": [],
              "addedWidgets": {},
              "type": "html",
              "arguments": {}
            }
          }
        },
        {
          "output_type": "display_data",
          "data": {
            "text/html": [
              "<div>\n",
              "<style scoped>\n",
              "    .dataframe tbody tr th:only-of-type {\n",
              "        vertical-align: middle;\n",
              "    }\n",
              "\n",
              "    .dataframe tbody tr th {\n",
              "        vertical-align: top;\n",
              "    }\n",
              "\n",
              "    .dataframe thead th {\n",
              "        text-align: right;\n",
              "    }\n",
              "</style>\n",
              "<table border=\"1\" class=\"dataframe\">\n",
              "  <thead>\n",
              "    <tr style=\"text-align: right;\">\n",
              "      <th></th>\n",
              "      <th>InvoiceNo</th>\n",
              "      <th>StockCode</th>\n",
              "      <th>Description</th>\n",
              "      <th>Quantity</th>\n",
              "      <th>InvoiceDate</th>\n",
              "      <th>UnitPrice</th>\n",
              "      <th>CustomerID</th>\n",
              "      <th>Country</th>\n",
              "      <th>InvoiceDate2</th>\n",
              "      <th>Price</th>\n",
              "    </tr>\n",
              "  </thead>\n",
              "  <tbody>\n",
              "    <tr>\n",
              "      <th>0</th>\n",
              "      <td>536365</td>\n",
              "      <td>85123A</td>\n",
              "      <td>WHITE HANGING HEART T-LIGHT HOLDER</td>\n",
              "      <td>6</td>\n",
              "      <td>01.12.2010 8:26:00</td>\n",
              "      <td>2.55</td>\n",
              "      <td>17850.0</td>\n",
              "      <td>United Kingdom</td>\n",
              "      <td>2010-12-01</td>\n",
              "      <td>15.30</td>\n",
              "    </tr>\n",
              "    <tr>\n",
              "      <th>1</th>\n",
              "      <td>536365</td>\n",
              "      <td>71053</td>\n",
              "      <td>WHITE METAL LANTERN</td>\n",
              "      <td>6</td>\n",
              "      <td>01.12.2010 8:26:00</td>\n",
              "      <td>3.39</td>\n",
              "      <td>17850.0</td>\n",
              "      <td>United Kingdom</td>\n",
              "      <td>2010-12-01</td>\n",
              "      <td>20.34</td>\n",
              "    </tr>\n",
              "    <tr>\n",
              "      <th>2</th>\n",
              "      <td>536365</td>\n",
              "      <td>84406B</td>\n",
              "      <td>CREAM CUPID HEARTS COAT HANGER</td>\n",
              "      <td>8</td>\n",
              "      <td>01.12.2010 8:26:00</td>\n",
              "      <td>2.75</td>\n",
              "      <td>17850.0</td>\n",
              "      <td>United Kingdom</td>\n",
              "      <td>2010-12-01</td>\n",
              "      <td>22.00</td>\n",
              "    </tr>\n",
              "    <tr>\n",
              "      <th>3</th>\n",
              "      <td>536365</td>\n",
              "      <td>84029G</td>\n",
              "      <td>KNITTED UNION FLAG HOT WATER BOTTLE</td>\n",
              "      <td>6</td>\n",
              "      <td>01.12.2010 8:26:00</td>\n",
              "      <td>3.39</td>\n",
              "      <td>17850.0</td>\n",
              "      <td>United Kingdom</td>\n",
              "      <td>2010-12-01</td>\n",
              "      <td>20.34</td>\n",
              "    </tr>\n",
              "    <tr>\n",
              "      <th>4</th>\n",
              "      <td>536365</td>\n",
              "      <td>84029E</td>\n",
              "      <td>RED WOOLLY HOTTIE WHITE HEART.</td>\n",
              "      <td>6</td>\n",
              "      <td>01.12.2010 8:26:00</td>\n",
              "      <td>3.39</td>\n",
              "      <td>17850.0</td>\n",
              "      <td>United Kingdom</td>\n",
              "      <td>2010-12-01</td>\n",
              "      <td>20.34</td>\n",
              "    </tr>\n",
              "  </tbody>\n",
              "</table>\n",
              "</div>"
            ]
          },
          "metadata": {
            "tags": [],
            "application/vnd.databricks.v1+output": {
              "datasetInfos": [],
              "data": "<div>\n<style scoped>\n    .dataframe tbody tr th:only-of-type {\n        vertical-align: middle;\n    }\n\n    .dataframe tbody tr th {\n        vertical-align: top;\n    }\n\n    .dataframe thead th {\n        text-align: right;\n    }\n</style>\n<table border=\"1\" class=\"dataframe\">\n  <thead>\n    <tr style=\"text-align: right;\">\n      <th></th>\n      <th>InvoiceNo</th>\n      <th>StockCode</th>\n      <th>Description</th>\n      <th>Quantity</th>\n      <th>InvoiceDate</th>\n      <th>UnitPrice</th>\n      <th>CustomerID</th>\n      <th>Country</th>\n      <th>InvoiceDate2</th>\n      <th>Price</th>\n    </tr>\n  </thead>\n  <tbody>\n    <tr>\n      <th>0</th>\n      <td>536365</td>\n      <td>85123A</td>\n      <td>WHITE HANGING HEART T-LIGHT HOLDER</td>\n      <td>6</td>\n      <td>01.12.2010 8:26:00</td>\n      <td>2.55</td>\n      <td>17850.0</td>\n      <td>United Kingdom</td>\n      <td>2010-12-01</td>\n      <td>15.30</td>\n    </tr>\n    <tr>\n      <th>1</th>\n      <td>536365</td>\n      <td>71053</td>\n      <td>WHITE METAL LANTERN</td>\n      <td>6</td>\n      <td>01.12.2010 8:26:00</td>\n      <td>3.39</td>\n      <td>17850.0</td>\n      <td>United Kingdom</td>\n      <td>2010-12-01</td>\n      <td>20.34</td>\n    </tr>\n    <tr>\n      <th>2</th>\n      <td>536365</td>\n      <td>84406B</td>\n      <td>CREAM CUPID HEARTS COAT HANGER</td>\n      <td>8</td>\n      <td>01.12.2010 8:26:00</td>\n      <td>2.75</td>\n      <td>17850.0</td>\n      <td>United Kingdom</td>\n      <td>2010-12-01</td>\n      <td>22.00</td>\n    </tr>\n    <tr>\n      <th>3</th>\n      <td>536365</td>\n      <td>84029G</td>\n      <td>KNITTED UNION FLAG HOT WATER BOTTLE</td>\n      <td>6</td>\n      <td>01.12.2010 8:26:00</td>\n      <td>3.39</td>\n      <td>17850.0</td>\n      <td>United Kingdom</td>\n      <td>2010-12-01</td>\n      <td>20.34</td>\n    </tr>\n    <tr>\n      <th>4</th>\n      <td>536365</td>\n      <td>84029E</td>\n      <td>RED WOOLLY HOTTIE WHITE HEART.</td>\n      <td>6</td>\n      <td>01.12.2010 8:26:00</td>\n      <td>3.39</td>\n      <td>17850.0</td>\n      <td>United Kingdom</td>\n      <td>2010-12-01</td>\n      <td>20.34</td>\n    </tr>\n  </tbody>\n</table>\n</div>",
              "textData": null,
              "removedWidgets": [],
              "addedWidgets": {},
              "type": "htmlSandbox",
              "arguments": {}
            }
          }
        }
      ]
    },
    {
      "cell_type": "code",
      "metadata": {
        "application/vnd.databricks.v1+cell": {
          "title": "",
          "showTitle": false,
          "inputWidgets": {},
          "nuid": "f72de14c-0cc5-42fb-8c4c-5e8c71911eae"
        },
        "id": "aH3KII85kGcH",
        "outputId": "24eb7803-5d84-4868-d7fc-1001de5b545c"
      },
      "source": [
        "# группировка данных (из датафрейма отбираются только нужные столбцы)\n",
        "orders = df.groupby(by=[\"InvoiceNo\", \"CustomerID\", \"InvoiceDate2\"]).agg({\"Price\": lambda x: x.sum()}).reset_index()\n",
        "\n",
        "# переименование столбца \n",
        "orders.rename(columns={\"InvoiceDate2\": \"InvoiceDate\"}, inplace=True)\n",
        "\n",
        "# проверка нового датафрейма\n",
        "print(len(orders))\n",
        "orders.head()"
      ],
      "execution_count": null,
      "outputs": [
        {
          "output_type": "display_data",
          "data": {
            "text/html": [
              "<style scoped>\n",
              "  .ansiout {\n",
              "    display: block;\n",
              "    unicode-bidi: embed;\n",
              "    white-space: pre-wrap;\n",
              "    word-wrap: break-word;\n",
              "    word-break: break-all;\n",
              "    font-family: \"Source Code Pro\", \"Menlo\", monospace;;\n",
              "    font-size: 13px;\n",
              "    color: #555;\n",
              "    margin-left: 4px;\n",
              "    line-height: 19px;\n",
              "  }\n",
              "</style>\n",
              "<div class=\"ansiout\">22190\n",
              "Out[69]: </div>"
            ]
          },
          "metadata": {
            "tags": [],
            "application/vnd.databricks.v1+output": {
              "datasetInfos": [],
              "data": "<div class=\"ansiout\">22190\nOut[69]: </div>",
              "removedWidgets": [],
              "addedWidgets": {},
              "type": "html",
              "arguments": {}
            }
          }
        },
        {
          "output_type": "display_data",
          "data": {
            "text/html": [
              "<div>\n",
              "<style scoped>\n",
              "    .dataframe tbody tr th:only-of-type {\n",
              "        vertical-align: middle;\n",
              "    }\n",
              "\n",
              "    .dataframe tbody tr th {\n",
              "        vertical-align: top;\n",
              "    }\n",
              "\n",
              "    .dataframe thead th {\n",
              "        text-align: right;\n",
              "    }\n",
              "</style>\n",
              "<table border=\"1\" class=\"dataframe\">\n",
              "  <thead>\n",
              "    <tr style=\"text-align: right;\">\n",
              "      <th></th>\n",
              "      <th>InvoiceNo</th>\n",
              "      <th>CustomerID</th>\n",
              "      <th>InvoiceDate</th>\n",
              "      <th>Price</th>\n",
              "    </tr>\n",
              "  </thead>\n",
              "  <tbody>\n",
              "    <tr>\n",
              "      <th>0</th>\n",
              "      <td>536365</td>\n",
              "      <td>17850.0</td>\n",
              "      <td>2010-12-01</td>\n",
              "      <td>139.12</td>\n",
              "    </tr>\n",
              "    <tr>\n",
              "      <th>1</th>\n",
              "      <td>536366</td>\n",
              "      <td>17850.0</td>\n",
              "      <td>2010-12-01</td>\n",
              "      <td>22.20</td>\n",
              "    </tr>\n",
              "    <tr>\n",
              "      <th>2</th>\n",
              "      <td>536367</td>\n",
              "      <td>13047.0</td>\n",
              "      <td>2010-12-01</td>\n",
              "      <td>278.73</td>\n",
              "    </tr>\n",
              "    <tr>\n",
              "      <th>3</th>\n",
              "      <td>536368</td>\n",
              "      <td>13047.0</td>\n",
              "      <td>2010-12-01</td>\n",
              "      <td>70.05</td>\n",
              "    </tr>\n",
              "    <tr>\n",
              "      <th>4</th>\n",
              "      <td>536369</td>\n",
              "      <td>13047.0</td>\n",
              "      <td>2010-12-01</td>\n",
              "      <td>17.85</td>\n",
              "    </tr>\n",
              "  </tbody>\n",
              "</table>\n",
              "</div>"
            ]
          },
          "metadata": {
            "tags": [],
            "application/vnd.databricks.v1+output": {
              "datasetInfos": [],
              "data": "<div>\n<style scoped>\n    .dataframe tbody tr th:only-of-type {\n        vertical-align: middle;\n    }\n\n    .dataframe tbody tr th {\n        vertical-align: top;\n    }\n\n    .dataframe thead th {\n        text-align: right;\n    }\n</style>\n<table border=\"1\" class=\"dataframe\">\n  <thead>\n    <tr style=\"text-align: right;\">\n      <th></th>\n      <th>InvoiceNo</th>\n      <th>CustomerID</th>\n      <th>InvoiceDate</th>\n      <th>Price</th>\n    </tr>\n  </thead>\n  <tbody>\n    <tr>\n      <th>0</th>\n      <td>536365</td>\n      <td>17850.0</td>\n      <td>2010-12-01</td>\n      <td>139.12</td>\n    </tr>\n    <tr>\n      <th>1</th>\n      <td>536366</td>\n      <td>17850.0</td>\n      <td>2010-12-01</td>\n      <td>22.20</td>\n    </tr>\n    <tr>\n      <th>2</th>\n      <td>536367</td>\n      <td>13047.0</td>\n      <td>2010-12-01</td>\n      <td>278.73</td>\n    </tr>\n    <tr>\n      <th>3</th>\n      <td>536368</td>\n      <td>13047.0</td>\n      <td>2010-12-01</td>\n      <td>70.05</td>\n    </tr>\n    <tr>\n      <th>4</th>\n      <td>536369</td>\n      <td>13047.0</td>\n      <td>2010-12-01</td>\n      <td>17.85</td>\n    </tr>\n  </tbody>\n</table>\n</div>",
              "textData": null,
              "removedWidgets": [],
              "addedWidgets": {},
              "type": "htmlSandbox",
              "arguments": {}
            }
          }
        }
      ]
    },
    {
      "cell_type": "code",
      "metadata": {
        "application/vnd.databricks.v1+cell": {
          "title": "",
          "showTitle": false,
          "inputWidgets": {},
          "nuid": "fdc89e15-de0e-4060-a5bf-61d12549b514"
        },
        "id": "LlTNufWOkGcH",
        "outputId": "52ba7238-f836-4b6b-f8a2-1df41ce793e7"
      },
      "source": [
        "# Recency (давность последней покупки)\n",
        "\n",
        "# получение максимальной даты и прибавление к ней одного дня, затем подсчёт разницы\n",
        "now = orders[\"InvoiceDate\"].max() + timedelta(days=1)\n",
        "orders[\"Recency\"] = orders[\"InvoiceDate\"].apply(lambda x: (now - x).days)\n",
        "\n",
        "# альтернативный вариант (ручной):\n",
        "# вывод максимальной даты и прибавление к ней одного дня, потом расчёт давности\n",
        "# print(orders.InvoiceDate.max()) \n",
        "# 2011-12-09 00:00:00\n",
        "# orders[\"Recency\"] = orders.InvoiceDate.apply(lambda x: (datetime.strptime(\"2011-12-10\", \"%Y-%m-%d\") - x).days)\n",
        "orders.sample(7)"
      ],
      "execution_count": null,
      "outputs": [
        {
          "output_type": "display_data",
          "data": {
            "text/html": [
              "<style scoped>\n",
              "  .ansiout {\n",
              "    display: block;\n",
              "    unicode-bidi: embed;\n",
              "    white-space: pre-wrap;\n",
              "    word-wrap: break-word;\n",
              "    word-break: break-all;\n",
              "    font-family: \"Source Code Pro\", \"Menlo\", monospace;;\n",
              "    font-size: 13px;\n",
              "    color: #555;\n",
              "    margin-left: 4px;\n",
              "    line-height: 19px;\n",
              "  }\n",
              "</style>\n",
              "<div class=\"ansiout\">Out[70]: </div>"
            ]
          },
          "metadata": {
            "tags": [],
            "application/vnd.databricks.v1+output": {
              "datasetInfos": [],
              "data": "<div class=\"ansiout\">Out[70]: </div>",
              "removedWidgets": [],
              "addedWidgets": {},
              "type": "html",
              "arguments": {}
            }
          }
        },
        {
          "output_type": "display_data",
          "data": {
            "text/html": [
              "<div>\n",
              "<style scoped>\n",
              "    .dataframe tbody tr th:only-of-type {\n",
              "        vertical-align: middle;\n",
              "    }\n",
              "\n",
              "    .dataframe tbody tr th {\n",
              "        vertical-align: top;\n",
              "    }\n",
              "\n",
              "    .dataframe thead th {\n",
              "        text-align: right;\n",
              "    }\n",
              "</style>\n",
              "<table border=\"1\" class=\"dataframe\">\n",
              "  <thead>\n",
              "    <tr style=\"text-align: right;\">\n",
              "      <th></th>\n",
              "      <th>InvoiceNo</th>\n",
              "      <th>CustomerID</th>\n",
              "      <th>InvoiceDate</th>\n",
              "      <th>Price</th>\n",
              "      <th>Recency</th>\n",
              "    </tr>\n",
              "  </thead>\n",
              "  <tbody>\n",
              "    <tr>\n",
              "      <th>11810</th>\n",
              "      <td>566018</td>\n",
              "      <td>13137.0</td>\n",
              "      <td>2011-09-08</td>\n",
              "      <td>473.29</td>\n",
              "      <td>93</td>\n",
              "    </tr>\n",
              "    <tr>\n",
              "      <th>18122</th>\n",
              "      <td>580667</td>\n",
              "      <td>15031.0</td>\n",
              "      <td>2011-12-05</td>\n",
              "      <td>175.53</td>\n",
              "      <td>5</td>\n",
              "    </tr>\n",
              "    <tr>\n",
              "      <th>16053</th>\n",
              "      <td>575899</td>\n",
              "      <td>16133.0</td>\n",
              "      <td>2011-11-11</td>\n",
              "      <td>359.90</td>\n",
              "      <td>29</td>\n",
              "    </tr>\n",
              "    <tr>\n",
              "      <th>11053</th>\n",
              "      <td>564060</td>\n",
              "      <td>17073.0</td>\n",
              "      <td>2011-08-22</td>\n",
              "      <td>453.79</td>\n",
              "      <td>110</td>\n",
              "    </tr>\n",
              "    <tr>\n",
              "      <th>8088</th>\n",
              "      <td>556876</td>\n",
              "      <td>16241.0</td>\n",
              "      <td>2011-06-15</td>\n",
              "      <td>173.82</td>\n",
              "      <td>178</td>\n",
              "    </tr>\n",
              "    <tr>\n",
              "      <th>16401</th>\n",
              "      <td>576672</td>\n",
              "      <td>12731.0</td>\n",
              "      <td>2011-11-16</td>\n",
              "      <td>1497.52</td>\n",
              "      <td>24</td>\n",
              "    </tr>\n",
              "    <tr>\n",
              "      <th>5872</th>\n",
              "      <td>551535</td>\n",
              "      <td>17615.0</td>\n",
              "      <td>2011-05-01</td>\n",
              "      <td>153.75</td>\n",
              "      <td>223</td>\n",
              "    </tr>\n",
              "  </tbody>\n",
              "</table>\n",
              "</div>"
            ]
          },
          "metadata": {
            "tags": [],
            "application/vnd.databricks.v1+output": {
              "datasetInfos": [],
              "data": "<div>\n<style scoped>\n    .dataframe tbody tr th:only-of-type {\n        vertical-align: middle;\n    }\n\n    .dataframe tbody tr th {\n        vertical-align: top;\n    }\n\n    .dataframe thead th {\n        text-align: right;\n    }\n</style>\n<table border=\"1\" class=\"dataframe\">\n  <thead>\n    <tr style=\"text-align: right;\">\n      <th></th>\n      <th>InvoiceNo</th>\n      <th>CustomerID</th>\n      <th>InvoiceDate</th>\n      <th>Price</th>\n      <th>Recency</th>\n    </tr>\n  </thead>\n  <tbody>\n    <tr>\n      <th>11810</th>\n      <td>566018</td>\n      <td>13137.0</td>\n      <td>2011-09-08</td>\n      <td>473.29</td>\n      <td>93</td>\n    </tr>\n    <tr>\n      <th>18122</th>\n      <td>580667</td>\n      <td>15031.0</td>\n      <td>2011-12-05</td>\n      <td>175.53</td>\n      <td>5</td>\n    </tr>\n    <tr>\n      <th>16053</th>\n      <td>575899</td>\n      <td>16133.0</td>\n      <td>2011-11-11</td>\n      <td>359.90</td>\n      <td>29</td>\n    </tr>\n    <tr>\n      <th>11053</th>\n      <td>564060</td>\n      <td>17073.0</td>\n      <td>2011-08-22</td>\n      <td>453.79</td>\n      <td>110</td>\n    </tr>\n    <tr>\n      <th>8088</th>\n      <td>556876</td>\n      <td>16241.0</td>\n      <td>2011-06-15</td>\n      <td>173.82</td>\n      <td>178</td>\n    </tr>\n    <tr>\n      <th>16401</th>\n      <td>576672</td>\n      <td>12731.0</td>\n      <td>2011-11-16</td>\n      <td>1497.52</td>\n      <td>24</td>\n    </tr>\n    <tr>\n      <th>5872</th>\n      <td>551535</td>\n      <td>17615.0</td>\n      <td>2011-05-01</td>\n      <td>153.75</td>\n      <td>223</td>\n    </tr>\n  </tbody>\n</table>\n</div>",
              "textData": null,
              "removedWidgets": [],
              "addedWidgets": {},
              "type": "htmlSandbox",
              "arguments": {}
            }
          }
        }
      ]
    },
    {
      "cell_type": "code",
      "metadata": {
        "application/vnd.databricks.v1+cell": {
          "title": "",
          "showTitle": false,
          "inputWidgets": {},
          "nuid": "c1ac9e12-c239-4d32-8e14-676dbafd668f"
        },
        "id": "Tr2bp9YKkGcI",
        "outputId": "9372fcb1-ae55-4f84-f5b4-dea9fe13e31f"
      },
      "source": [
        "# словарь с тремя функциями для агрегации при группировке\n",
        "aggr = {\n",
        "  \"InvoiceDate\": lambda x: len([d for d in x]),    # создаётся список из всех дат по заказам пользователя, считается его длина\n",
        "  \"Recency\": lambda x: x.min(),                    # из всех дней выбирается ближайший день, т.е. минимальное значение\n",
        "  \"Price\": lambda x: sum([p for p in x])           # суммирование\n",
        "}\n",
        "rfm = orders.groupby(by=\"CustomerID\").agg(aggr).reset_index()\n",
        "\n",
        "# переименование и сдвиг столбцов\n",
        "rfm.rename(columns={\"InvoiceDate\": \"Frequency\", \"Price\": \"Monetary\"}, inplace=True)\n",
        "rfm = rfm[[\"CustomerID\", \"Recency\", \"Frequency\", \"Monetary\"]]\n",
        "rfm.head()"
      ],
      "execution_count": null,
      "outputs": [
        {
          "output_type": "display_data",
          "data": {
            "text/html": [
              "<style scoped>\n",
              "  .ansiout {\n",
              "    display: block;\n",
              "    unicode-bidi: embed;\n",
              "    white-space: pre-wrap;\n",
              "    word-wrap: break-word;\n",
              "    word-break: break-all;\n",
              "    font-family: \"Source Code Pro\", \"Menlo\", monospace;;\n",
              "    font-size: 13px;\n",
              "    color: #555;\n",
              "    margin-left: 4px;\n",
              "    line-height: 19px;\n",
              "  }\n",
              "</style>\n",
              "<div class=\"ansiout\">Out[76]: </div>"
            ]
          },
          "metadata": {
            "tags": [],
            "application/vnd.databricks.v1+output": {
              "datasetInfos": [],
              "data": "<div class=\"ansiout\">Out[76]: </div>",
              "removedWidgets": [],
              "addedWidgets": {},
              "type": "html",
              "arguments": {}
            }
          }
        },
        {
          "output_type": "display_data",
          "data": {
            "text/html": [
              "<div>\n",
              "<style scoped>\n",
              "    .dataframe tbody tr th:only-of-type {\n",
              "        vertical-align: middle;\n",
              "    }\n",
              "\n",
              "    .dataframe tbody tr th {\n",
              "        vertical-align: top;\n",
              "    }\n",
              "\n",
              "    .dataframe thead th {\n",
              "        text-align: right;\n",
              "    }\n",
              "</style>\n",
              "<table border=\"1\" class=\"dataframe\">\n",
              "  <thead>\n",
              "    <tr style=\"text-align: right;\">\n",
              "      <th></th>\n",
              "      <th>CustomerID</th>\n",
              "      <th>Recency</th>\n",
              "      <th>Frequency</th>\n",
              "      <th>Monetary</th>\n",
              "    </tr>\n",
              "  </thead>\n",
              "  <tbody>\n",
              "    <tr>\n",
              "      <th>0</th>\n",
              "      <td>12346.0</td>\n",
              "      <td>326</td>\n",
              "      <td>2</td>\n",
              "      <td>0.00</td>\n",
              "    </tr>\n",
              "    <tr>\n",
              "      <th>1</th>\n",
              "      <td>12347.0</td>\n",
              "      <td>3</td>\n",
              "      <td>7</td>\n",
              "      <td>4310.00</td>\n",
              "    </tr>\n",
              "    <tr>\n",
              "      <th>2</th>\n",
              "      <td>12348.0</td>\n",
              "      <td>76</td>\n",
              "      <td>4</td>\n",
              "      <td>1797.24</td>\n",
              "    </tr>\n",
              "    <tr>\n",
              "      <th>3</th>\n",
              "      <td>12349.0</td>\n",
              "      <td>19</td>\n",
              "      <td>1</td>\n",
              "      <td>1757.55</td>\n",
              "    </tr>\n",
              "    <tr>\n",
              "      <th>4</th>\n",
              "      <td>12350.0</td>\n",
              "      <td>311</td>\n",
              "      <td>1</td>\n",
              "      <td>334.40</td>\n",
              "    </tr>\n",
              "  </tbody>\n",
              "</table>\n",
              "</div>"
            ]
          },
          "metadata": {
            "tags": [],
            "application/vnd.databricks.v1+output": {
              "datasetInfos": [],
              "data": "<div>\n<style scoped>\n    .dataframe tbody tr th:only-of-type {\n        vertical-align: middle;\n    }\n\n    .dataframe tbody tr th {\n        vertical-align: top;\n    }\n\n    .dataframe thead th {\n        text-align: right;\n    }\n</style>\n<table border=\"1\" class=\"dataframe\">\n  <thead>\n    <tr style=\"text-align: right;\">\n      <th></th>\n      <th>CustomerID</th>\n      <th>Recency</th>\n      <th>Frequency</th>\n      <th>Monetary</th>\n    </tr>\n  </thead>\n  <tbody>\n    <tr>\n      <th>0</th>\n      <td>12346.0</td>\n      <td>326</td>\n      <td>2</td>\n      <td>0.00</td>\n    </tr>\n    <tr>\n      <th>1</th>\n      <td>12347.0</td>\n      <td>3</td>\n      <td>7</td>\n      <td>4310.00</td>\n    </tr>\n    <tr>\n      <th>2</th>\n      <td>12348.0</td>\n      <td>76</td>\n      <td>4</td>\n      <td>1797.24</td>\n    </tr>\n    <tr>\n      <th>3</th>\n      <td>12349.0</td>\n      <td>19</td>\n      <td>1</td>\n      <td>1757.55</td>\n    </tr>\n    <tr>\n      <th>4</th>\n      <td>12350.0</td>\n      <td>311</td>\n      <td>1</td>\n      <td>334.40</td>\n    </tr>\n  </tbody>\n</table>\n</div>",
              "textData": null,
              "removedWidgets": [],
              "addedWidgets": {},
              "type": "htmlSandbox",
              "arguments": {}
            }
          }
        }
      ]
    },
    {
      "cell_type": "code",
      "metadata": {
        "application/vnd.databricks.v1+cell": {
          "title": "",
          "showTitle": false,
          "inputWidgets": {},
          "nuid": "86622c43-be49-413f-bdff-c62e77f0cb29"
        },
        "id": "hkdUIaW1kGcI",
        "outputId": "4528387b-690a-4cbc-8814-ff7855533aa4"
      },
      "source": [
        "# проверка на наличие в столбцах отрицательных значений\n",
        "print(rfm.query(\"Recency < 0\"))\n",
        "print(rfm.query(\"Frequency < 0\"))\n",
        "print(rfm.query(\"Monetary < 0\"))\n",
        "\n",
        "# print(rfm.query(\"Monetary < 0\")[\"Monetary\"].count())\n",
        "# итог: в столбце M всё-равно почему-то присутствуют отрицательные значения - 43 строки"
      ],
      "execution_count": null,
      "outputs": [
        {
          "output_type": "display_data",
          "data": {
            "text/html": [
              "<style scoped>\n",
              "  .ansiout {\n",
              "    display: block;\n",
              "    unicode-bidi: embed;\n",
              "    white-space: pre-wrap;\n",
              "    word-wrap: break-word;\n",
              "    word-break: break-all;\n",
              "    font-family: \"Source Code Pro\", \"Menlo\", monospace;;\n",
              "    font-size: 13px;\n",
              "    color: #555;\n",
              "    margin-left: 4px;\n",
              "    line-height: 19px;\n",
              "  }\n",
              "</style>\n",
              "<div class=\"ansiout\">Empty DataFrame\n",
              "Columns: [CustomerID, Recency, Frequency, Monetary]\n",
              "Index: []\n",
              "Empty DataFrame\n",
              "Columns: [CustomerID, Recency, Frequency, Monetary]\n",
              "Index: []\n",
              "      CustomerID  Recency  Frequency      Monetary\n",
              "125      12503.0      338          1 -1.126000e+03\n",
              "127      12505.0      302          1 -4.500000e+00\n",
              "212      12605.0      366          1 -7.500000e+00\n",
              "213      12607.0       59          2 -2.273737e-13\n",
              "264      12666.0      360          1 -2.274400e+02\n",
              "415      12870.0      367          1 -1.490000e+01\n",
              "467      12943.0      302          1 -3.750000e+00\n",
              "619      13154.0      145          1 -6.118600e+02\n",
              "991      13672.0      302          6 -7.146000e+01\n",
              "1004     13693.0      326          2 -3.200000e+01\n",
              "1106     13829.0      360          1 -1.020000e+02\n",
              "1200     13958.0      373          1 -1.024500e+02\n",
              "1318     14119.0      355          1 -1.990000e+01\n",
              "1384     14213.0      372          1 -1.192200e+03\n",
              "1544     14437.0      144          2 -4.340000e+01\n",
              "1642     14557.0       65          2 -1.136868e-13\n",
              "1688     14627.0      312          1 -2.185000e+01\n",
              "1727     14679.0      372          1 -2.550000e+00\n",
              "1799     14777.0        5          2 -1.745000e+01\n",
              "2236     15369.0      145          1 -1.592490e+03\n",
              "2400     15590.0      290          1 -3.019000e+01\n",
              "2436     15638.0      302          1 -9.400000e+01\n",
              "2506     15728.0       50          1 -1.348000e+02\n",
              "2560     15802.0      143          3 -4.514200e+02\n",
              "2578     15823.0      338          2 -8.407600e+02\n",
              "2745     16061.0      270          1 -2.995000e+01\n",
              "2802     16138.0      369          1 -7.950000e+00\n",
              "2892     16252.0      367          1 -2.950900e+02\n",
              "2900     16262.0      361          1 -3.165000e+01\n",
              "3020     16428.0       82          1 -2.950000e+00\n",
              "3039     16454.0       45          3 -8.150000e+00\n",
              "3103     16546.0      291          3 -9.593000e+01\n",
              "3126     16579.0      366          1 -3.060000e+01\n",
              "3435     16995.0      373          1 -1.250000e+00\n",
              "3487     17065.0      144          1 -1.123500e+02\n",
              "3650     17307.0      366          1 -1.526400e+02\n",
              "3756     17448.0      145          1 -4.287630e+03\n",
              "3828     17547.0      373          1 -1.180000e+01\n",
              "3829     17548.0      218          3 -1.414800e+02\n",
              "3870     17603.0       51          5 -1.165300e+03\n",
              "4029     17820.0      192          2 -2.405000e+01\n",
              "4261     18141.0      361          1 -3.540000e+01\n",
              "4350     18256.0      355          1 -5.010000e+01\n",
              "</div>"
            ]
          },
          "metadata": {
            "tags": [],
            "application/vnd.databricks.v1+output": {
              "datasetInfos": [],
              "data": "<div class=\"ansiout\">Empty DataFrame\nColumns: [CustomerID, Recency, Frequency, Monetary]\nIndex: []\nEmpty DataFrame\nColumns: [CustomerID, Recency, Frequency, Monetary]\nIndex: []\n      CustomerID  Recency  Frequency      Monetary\n125      12503.0      338          1 -1.126000e+03\n127      12505.0      302          1 -4.500000e+00\n212      12605.0      366          1 -7.500000e+00\n213      12607.0       59          2 -2.273737e-13\n264      12666.0      360          1 -2.274400e+02\n415      12870.0      367          1 -1.490000e+01\n467      12943.0      302          1 -3.750000e+00\n619      13154.0      145          1 -6.118600e+02\n991      13672.0      302          6 -7.146000e+01\n1004     13693.0      326          2 -3.200000e+01\n1106     13829.0      360          1 -1.020000e+02\n1200     13958.0      373          1 -1.024500e+02\n1318     14119.0      355          1 -1.990000e+01\n1384     14213.0      372          1 -1.192200e+03\n1544     14437.0      144          2 -4.340000e+01\n1642     14557.0       65          2 -1.136868e-13\n1688     14627.0      312          1 -2.185000e+01\n1727     14679.0      372          1 -2.550000e+00\n1799     14777.0        5          2 -1.745000e+01\n2236     15369.0      145          1 -1.592490e+03\n2400     15590.0      290          1 -3.019000e+01\n2436     15638.0      302          1 -9.400000e+01\n2506     15728.0       50          1 -1.348000e+02\n2560     15802.0      143          3 -4.514200e+02\n2578     15823.0      338          2 -8.407600e+02\n2745     16061.0      270          1 -2.995000e+01\n2802     16138.0      369          1 -7.950000e+00\n2892     16252.0      367          1 -2.950900e+02\n2900     16262.0      361          1 -3.165000e+01\n3020     16428.0       82          1 -2.950000e+00\n3039     16454.0       45          3 -8.150000e+00\n3103     16546.0      291          3 -9.593000e+01\n3126     16579.0      366          1 -3.060000e+01\n3435     16995.0      373          1 -1.250000e+00\n3487     17065.0      144          1 -1.123500e+02\n3650     17307.0      366          1 -1.526400e+02\n3756     17448.0      145          1 -4.287630e+03\n3828     17547.0      373          1 -1.180000e+01\n3829     17548.0      218          3 -1.414800e+02\n3870     17603.0       51          5 -1.165300e+03\n4029     17820.0      192          2 -2.405000e+01\n4261     18141.0      361          1 -3.540000e+01\n4350     18256.0      355          1 -5.010000e+01\n</div>",
              "removedWidgets": [],
              "addedWidgets": {},
              "type": "html",
              "arguments": {}
            }
          }
        }
      ]
    },
    {
      "cell_type": "code",
      "metadata": {
        "application/vnd.databricks.v1+cell": {
          "title": "",
          "showTitle": false,
          "inputWidgets": {},
          "nuid": "e6cbd305-df6a-4916-b874-e11e635530e6"
        },
        "id": "nXwhy_XgkGcI",
        "outputId": "d2e14e14-bb49-4c75-b95e-9bd74560893a"
      },
      "source": [
        "# вычисление квантилей\n",
        "quintiles = rfm[[\"Recency\", \"Frequency\", \"Monetary\"]].quantile([.2, .4, .6, .8]).to_dict()\n",
        "quintiles"
      ],
      "execution_count": null,
      "outputs": [
        {
          "output_type": "display_data",
          "data": {
            "text/html": [
              "<style scoped>\n",
              "  .ansiout {\n",
              "    display: block;\n",
              "    unicode-bidi: embed;\n",
              "    white-space: pre-wrap;\n",
              "    word-wrap: break-word;\n",
              "    word-break: break-all;\n",
              "    font-family: \"Source Code Pro\", \"Menlo\", monospace;;\n",
              "    font-size: 13px;\n",
              "    color: #555;\n",
              "    margin-left: 4px;\n",
              "    line-height: 19px;\n",
              "  }\n",
              "</style>\n",
              "<div class=\"ansiout\">Out[78]: {&#39;Recency&#39;: {0.2: 12.0, 0.4: 32.0, 0.6: 72.0, 0.8: 179.0},\n",
              " &#39;Frequency&#39;: {0.2: 1.0, 0.4: 2.0, 0.6: 4.0, 0.8: 7.0},\n",
              " &#39;Monetary&#39;: {0.2: 234.39200000000005,\n",
              "  0.4: 465.41200000000003,\n",
              "  0.6: 909.134,\n",
              "  0.8: 2002.0920000000003}}</div>"
            ]
          },
          "metadata": {
            "tags": [],
            "application/vnd.databricks.v1+output": {
              "datasetInfos": [],
              "data": "<div class=\"ansiout\">Out[78]: {&#39;Recency&#39;: {0.2: 12.0, 0.4: 32.0, 0.6: 72.0, 0.8: 179.0},\n &#39;Frequency&#39;: {0.2: 1.0, 0.4: 2.0, 0.6: 4.0, 0.8: 7.0},\n &#39;Monetary&#39;: {0.2: 234.39200000000005,\n  0.4: 465.41200000000003,\n  0.6: 909.134,\n  0.8: 2002.0920000000003}}</div>",
              "removedWidgets": [],
              "addedWidgets": {},
              "type": "html",
              "arguments": {}
            }
          }
        }
      ]
    },
    {
      "cell_type": "code",
      "metadata": {
        "application/vnd.databricks.v1+cell": {
          "title": "",
          "showTitle": false,
          "inputWidgets": {},
          "nuid": "d4d4d55f-987a-4488-a05e-9e8a2ee89b13"
        },
        "id": "1HC4U4sykGcI",
        "outputId": "2d48bdb0-b663-4530-dc0d-0209802747bc"
      },
      "source": [
        "# функция для присвоения каждому пользователю нужной группы (ранга)\n",
        "def score_rfm(x, c):\n",
        "  rank = [1, 2, 3, 4, 5]\n",
        "  if c == \"Recency\":\n",
        "    rank = rank[::-1]     # для Recency (Давности) нужно \"развернуть\" ранжирование\n",
        "    \n",
        "  if x <= quintiles[c][.2]:\n",
        "    return rank[0]\n",
        "  elif x <= quintiles[c][.4]:\n",
        "    return rank[1]\n",
        "  elif x <= quintiles[c][.6]:\n",
        "    return rank[2]\n",
        "  elif x <= quintiles[c][.8]:\n",
        "    return rank[3]\n",
        "  else:\n",
        "    return rank[4]"
      ],
      "execution_count": null,
      "outputs": [
        {
          "output_type": "display_data",
          "data": {
            "text/html": [
              "<style scoped>\n",
              "  .ansiout {\n",
              "    display: block;\n",
              "    unicode-bidi: embed;\n",
              "    white-space: pre-wrap;\n",
              "    word-wrap: break-word;\n",
              "    word-break: break-all;\n",
              "    font-family: \"Source Code Pro\", \"Menlo\", monospace;;\n",
              "    font-size: 13px;\n",
              "    color: #555;\n",
              "    margin-left: 4px;\n",
              "    line-height: 19px;\n",
              "  }\n",
              "</style>\n",
              "<div class=\"ansiout\"></div>"
            ]
          },
          "metadata": {
            "tags": [],
            "application/vnd.databricks.v1+output": {
              "datasetInfos": [],
              "data": "<div class=\"ansiout\"></div>",
              "removedWidgets": [],
              "addedWidgets": {},
              "type": "html",
              "arguments": {}
            }
          }
        }
      ]
    },
    {
      "cell_type": "code",
      "metadata": {
        "application/vnd.databricks.v1+cell": {
          "title": "",
          "showTitle": false,
          "inputWidgets": {},
          "nuid": "e962000c-9b4e-484d-a53f-873ae783869a"
        },
        "id": "Dls_q9E-kGcJ",
        "outputId": "692389b4-ff96-42a2-f443-6e7d3863f646"
      },
      "source": [
        "# присвоение рангов\n",
        "rfm[\"R\"] = rfm[\"Recency\"].apply(lambda x: score_rfm(x, \"Recency\"))\n",
        "rfm[\"F\"] = rfm[\"Frequency\"].apply(lambda x: score_rfm(x, \"Frequency\"))\n",
        "rfm[\"M\"] = rfm[\"Monetary\"].apply(lambda x: score_rfm(x, \"Monetary\"))\n",
        "rfm[\"RFM\"] = rfm[\"R\"].map(str) + rfm[\"F\"].map(str) + rfm[\"M\"].map(str)\n",
        "rfm.head()"
      ],
      "execution_count": null,
      "outputs": [
        {
          "output_type": "display_data",
          "data": {
            "text/html": [
              "<style scoped>\n",
              "  .ansiout {\n",
              "    display: block;\n",
              "    unicode-bidi: embed;\n",
              "    white-space: pre-wrap;\n",
              "    word-wrap: break-word;\n",
              "    word-break: break-all;\n",
              "    font-family: \"Source Code Pro\", \"Menlo\", monospace;;\n",
              "    font-size: 13px;\n",
              "    color: #555;\n",
              "    margin-left: 4px;\n",
              "    line-height: 19px;\n",
              "  }\n",
              "</style>\n",
              "<div class=\"ansiout\">Out[80]: </div>"
            ]
          },
          "metadata": {
            "tags": [],
            "application/vnd.databricks.v1+output": {
              "datasetInfos": [],
              "data": "<div class=\"ansiout\">Out[80]: </div>",
              "removedWidgets": [],
              "addedWidgets": {},
              "type": "html",
              "arguments": {}
            }
          }
        },
        {
          "output_type": "display_data",
          "data": {
            "text/html": [
              "<div>\n",
              "<style scoped>\n",
              "    .dataframe tbody tr th:only-of-type {\n",
              "        vertical-align: middle;\n",
              "    }\n",
              "\n",
              "    .dataframe tbody tr th {\n",
              "        vertical-align: top;\n",
              "    }\n",
              "\n",
              "    .dataframe thead th {\n",
              "        text-align: right;\n",
              "    }\n",
              "</style>\n",
              "<table border=\"1\" class=\"dataframe\">\n",
              "  <thead>\n",
              "    <tr style=\"text-align: right;\">\n",
              "      <th></th>\n",
              "      <th>CustomerID</th>\n",
              "      <th>Recency</th>\n",
              "      <th>Frequency</th>\n",
              "      <th>Monetary</th>\n",
              "      <th>R</th>\n",
              "      <th>F</th>\n",
              "      <th>M</th>\n",
              "      <th>RFM</th>\n",
              "    </tr>\n",
              "  </thead>\n",
              "  <tbody>\n",
              "    <tr>\n",
              "      <th>0</th>\n",
              "      <td>12346.0</td>\n",
              "      <td>326</td>\n",
              "      <td>2</td>\n",
              "      <td>0.00</td>\n",
              "      <td>1</td>\n",
              "      <td>2</td>\n",
              "      <td>1</td>\n",
              "      <td>121</td>\n",
              "    </tr>\n",
              "    <tr>\n",
              "      <th>1</th>\n",
              "      <td>12347.0</td>\n",
              "      <td>3</td>\n",
              "      <td>7</td>\n",
              "      <td>4310.00</td>\n",
              "      <td>5</td>\n",
              "      <td>4</td>\n",
              "      <td>5</td>\n",
              "      <td>545</td>\n",
              "    </tr>\n",
              "    <tr>\n",
              "      <th>2</th>\n",
              "      <td>12348.0</td>\n",
              "      <td>76</td>\n",
              "      <td>4</td>\n",
              "      <td>1797.24</td>\n",
              "      <td>2</td>\n",
              "      <td>3</td>\n",
              "      <td>4</td>\n",
              "      <td>234</td>\n",
              "    </tr>\n",
              "    <tr>\n",
              "      <th>3</th>\n",
              "      <td>12349.0</td>\n",
              "      <td>19</td>\n",
              "      <td>1</td>\n",
              "      <td>1757.55</td>\n",
              "      <td>4</td>\n",
              "      <td>1</td>\n",
              "      <td>4</td>\n",
              "      <td>414</td>\n",
              "    </tr>\n",
              "    <tr>\n",
              "      <th>4</th>\n",
              "      <td>12350.0</td>\n",
              "      <td>311</td>\n",
              "      <td>1</td>\n",
              "      <td>334.40</td>\n",
              "      <td>1</td>\n",
              "      <td>1</td>\n",
              "      <td>2</td>\n",
              "      <td>112</td>\n",
              "    </tr>\n",
              "  </tbody>\n",
              "</table>\n",
              "</div>"
            ]
          },
          "metadata": {
            "tags": [],
            "application/vnd.databricks.v1+output": {
              "datasetInfos": [],
              "data": "<div>\n<style scoped>\n    .dataframe tbody tr th:only-of-type {\n        vertical-align: middle;\n    }\n\n    .dataframe tbody tr th {\n        vertical-align: top;\n    }\n\n    .dataframe thead th {\n        text-align: right;\n    }\n</style>\n<table border=\"1\" class=\"dataframe\">\n  <thead>\n    <tr style=\"text-align: right;\">\n      <th></th>\n      <th>CustomerID</th>\n      <th>Recency</th>\n      <th>Frequency</th>\n      <th>Monetary</th>\n      <th>R</th>\n      <th>F</th>\n      <th>M</th>\n      <th>RFM</th>\n    </tr>\n  </thead>\n  <tbody>\n    <tr>\n      <th>0</th>\n      <td>12346.0</td>\n      <td>326</td>\n      <td>2</td>\n      <td>0.00</td>\n      <td>1</td>\n      <td>2</td>\n      <td>1</td>\n      <td>121</td>\n    </tr>\n    <tr>\n      <th>1</th>\n      <td>12347.0</td>\n      <td>3</td>\n      <td>7</td>\n      <td>4310.00</td>\n      <td>5</td>\n      <td>4</td>\n      <td>5</td>\n      <td>545</td>\n    </tr>\n    <tr>\n      <th>2</th>\n      <td>12348.0</td>\n      <td>76</td>\n      <td>4</td>\n      <td>1797.24</td>\n      <td>2</td>\n      <td>3</td>\n      <td>4</td>\n      <td>234</td>\n    </tr>\n    <tr>\n      <th>3</th>\n      <td>12349.0</td>\n      <td>19</td>\n      <td>1</td>\n      <td>1757.55</td>\n      <td>4</td>\n      <td>1</td>\n      <td>4</td>\n      <td>414</td>\n    </tr>\n    <tr>\n      <th>4</th>\n      <td>12350.0</td>\n      <td>311</td>\n      <td>1</td>\n      <td>334.40</td>\n      <td>1</td>\n      <td>1</td>\n      <td>2</td>\n      <td>112</td>\n    </tr>\n  </tbody>\n</table>\n</div>",
              "textData": null,
              "removedWidgets": [],
              "addedWidgets": {},
              "type": "htmlSandbox",
              "arguments": {}
            }
          }
        }
      ]
    },
    {
      "cell_type": "code",
      "metadata": {
        "application/vnd.databricks.v1+cell": {
          "title": "",
          "showTitle": false,
          "inputWidgets": {},
          "nuid": "c8f9a1a5-fab1-4d51-981c-0435a786c95a"
        },
        "id": "-uLbx8RckGcJ",
        "outputId": "adbd1604-8f28-4d8a-c681-77e230145fd2"
      },
      "source": [
        "# карта (словарь) для сегментации пользователей\n",
        "segm_map = {\n",
        "  r\"[1-2][1-2][1-5]\": \"hibernating\",\n",
        "  r\"[1-2][3-4][1-5]\": \"at risk\",\n",
        "  r\"[1-2][5][1-5]\": \"can\\'t loose\",\n",
        "  r\"[3][1-2][1-5]\": \"about to sleep\",\n",
        "  r\"[3][3][1-5]\": \"need attention\",\n",
        "  r\"[3-4][4-5][1-5]\": \"loyal customers\",\n",
        "  r\"[4][1][1-5]\": \"promising\",\n",
        "  r\"[5][1][1-5]\": \"new customers\",\n",
        "  r\"[4-5][2-3][1-5]\": \"potential loyalists\",\n",
        "  r\"[5][4-5][1-5]\": \"champions\"\n",
        "}\n",
        "# параметр \"Monetary\" не используется для определения пользователя в тот или иной сегмент\n",
        "# поэтому третья цифра исключена (одинакова для всех групп) - [1-5]"
      ],
      "execution_count": null,
      "outputs": [
        {
          "output_type": "display_data",
          "data": {
            "text/html": [
              "<style scoped>\n",
              "  .ansiout {\n",
              "    display: block;\n",
              "    unicode-bidi: embed;\n",
              "    white-space: pre-wrap;\n",
              "    word-wrap: break-word;\n",
              "    word-break: break-all;\n",
              "    font-family: \"Source Code Pro\", \"Menlo\", monospace;;\n",
              "    font-size: 13px;\n",
              "    color: #555;\n",
              "    margin-left: 4px;\n",
              "    line-height: 19px;\n",
              "  }\n",
              "</style>\n",
              "<div class=\"ansiout\"></div>"
            ]
          },
          "metadata": {
            "tags": [],
            "application/vnd.databricks.v1+output": {
              "datasetInfos": [],
              "data": "<div class=\"ansiout\"></div>",
              "removedWidgets": [],
              "addedWidgets": {},
              "type": "html",
              "arguments": {}
            }
          }
        }
      ]
    },
    {
      "cell_type": "code",
      "metadata": {
        "application/vnd.databricks.v1+cell": {
          "title": "",
          "showTitle": false,
          "inputWidgets": {},
          "nuid": "c60c2579-07a7-4626-992d-cf26901238e6"
        },
        "id": "jX2NX9eikGcJ",
        "outputId": "720f7a87-f7ee-4803-8205-c4f1aa20e0b9"
      },
      "source": [
        "# текстовое описание сегмента\n",
        "rfm[\"Segment\"] = rfm[\"RFM\"].replace(segm_map, regex=True)\n",
        "rfm.head()"
      ],
      "execution_count": null,
      "outputs": [
        {
          "output_type": "display_data",
          "data": {
            "text/html": [
              "<style scoped>\n",
              "  .ansiout {\n",
              "    display: block;\n",
              "    unicode-bidi: embed;\n",
              "    white-space: pre-wrap;\n",
              "    word-wrap: break-word;\n",
              "    word-break: break-all;\n",
              "    font-family: \"Source Code Pro\", \"Menlo\", monospace;;\n",
              "    font-size: 13px;\n",
              "    color: #555;\n",
              "    margin-left: 4px;\n",
              "    line-height: 19px;\n",
              "  }\n",
              "</style>\n",
              "<div class=\"ansiout\">Out[84]: </div>"
            ]
          },
          "metadata": {
            "tags": [],
            "application/vnd.databricks.v1+output": {
              "datasetInfos": [],
              "data": "<div class=\"ansiout\">Out[84]: </div>",
              "removedWidgets": [],
              "addedWidgets": {},
              "type": "html",
              "arguments": {}
            }
          }
        },
        {
          "output_type": "display_data",
          "data": {
            "text/html": [
              "<div>\n",
              "<style scoped>\n",
              "    .dataframe tbody tr th:only-of-type {\n",
              "        vertical-align: middle;\n",
              "    }\n",
              "\n",
              "    .dataframe tbody tr th {\n",
              "        vertical-align: top;\n",
              "    }\n",
              "\n",
              "    .dataframe thead th {\n",
              "        text-align: right;\n",
              "    }\n",
              "</style>\n",
              "<table border=\"1\" class=\"dataframe\">\n",
              "  <thead>\n",
              "    <tr style=\"text-align: right;\">\n",
              "      <th></th>\n",
              "      <th>CustomerID</th>\n",
              "      <th>Recency</th>\n",
              "      <th>Frequency</th>\n",
              "      <th>Monetary</th>\n",
              "      <th>R</th>\n",
              "      <th>F</th>\n",
              "      <th>M</th>\n",
              "      <th>RFM</th>\n",
              "      <th>Segment</th>\n",
              "    </tr>\n",
              "  </thead>\n",
              "  <tbody>\n",
              "    <tr>\n",
              "      <th>0</th>\n",
              "      <td>12346.0</td>\n",
              "      <td>326</td>\n",
              "      <td>2</td>\n",
              "      <td>0.00</td>\n",
              "      <td>1</td>\n",
              "      <td>2</td>\n",
              "      <td>1</td>\n",
              "      <td>121</td>\n",
              "      <td>hibernating</td>\n",
              "    </tr>\n",
              "    <tr>\n",
              "      <th>1</th>\n",
              "      <td>12347.0</td>\n",
              "      <td>3</td>\n",
              "      <td>7</td>\n",
              "      <td>4310.00</td>\n",
              "      <td>5</td>\n",
              "      <td>4</td>\n",
              "      <td>5</td>\n",
              "      <td>545</td>\n",
              "      <td>champions</td>\n",
              "    </tr>\n",
              "    <tr>\n",
              "      <th>2</th>\n",
              "      <td>12348.0</td>\n",
              "      <td>76</td>\n",
              "      <td>4</td>\n",
              "      <td>1797.24</td>\n",
              "      <td>2</td>\n",
              "      <td>3</td>\n",
              "      <td>4</td>\n",
              "      <td>234</td>\n",
              "      <td>at risk</td>\n",
              "    </tr>\n",
              "    <tr>\n",
              "      <th>3</th>\n",
              "      <td>12349.0</td>\n",
              "      <td>19</td>\n",
              "      <td>1</td>\n",
              "      <td>1757.55</td>\n",
              "      <td>4</td>\n",
              "      <td>1</td>\n",
              "      <td>4</td>\n",
              "      <td>414</td>\n",
              "      <td>promising</td>\n",
              "    </tr>\n",
              "    <tr>\n",
              "      <th>4</th>\n",
              "      <td>12350.0</td>\n",
              "      <td>311</td>\n",
              "      <td>1</td>\n",
              "      <td>334.40</td>\n",
              "      <td>1</td>\n",
              "      <td>1</td>\n",
              "      <td>2</td>\n",
              "      <td>112</td>\n",
              "      <td>hibernating</td>\n",
              "    </tr>\n",
              "  </tbody>\n",
              "</table>\n",
              "</div>"
            ]
          },
          "metadata": {
            "tags": [],
            "application/vnd.databricks.v1+output": {
              "datasetInfos": [],
              "data": "<div>\n<style scoped>\n    .dataframe tbody tr th:only-of-type {\n        vertical-align: middle;\n    }\n\n    .dataframe tbody tr th {\n        vertical-align: top;\n    }\n\n    .dataframe thead th {\n        text-align: right;\n    }\n</style>\n<table border=\"1\" class=\"dataframe\">\n  <thead>\n    <tr style=\"text-align: right;\">\n      <th></th>\n      <th>CustomerID</th>\n      <th>Recency</th>\n      <th>Frequency</th>\n      <th>Monetary</th>\n      <th>R</th>\n      <th>F</th>\n      <th>M</th>\n      <th>RFM</th>\n      <th>Segment</th>\n    </tr>\n  </thead>\n  <tbody>\n    <tr>\n      <th>0</th>\n      <td>12346.0</td>\n      <td>326</td>\n      <td>2</td>\n      <td>0.00</td>\n      <td>1</td>\n      <td>2</td>\n      <td>1</td>\n      <td>121</td>\n      <td>hibernating</td>\n    </tr>\n    <tr>\n      <th>1</th>\n      <td>12347.0</td>\n      <td>3</td>\n      <td>7</td>\n      <td>4310.00</td>\n      <td>5</td>\n      <td>4</td>\n      <td>5</td>\n      <td>545</td>\n      <td>champions</td>\n    </tr>\n    <tr>\n      <th>2</th>\n      <td>12348.0</td>\n      <td>76</td>\n      <td>4</td>\n      <td>1797.24</td>\n      <td>2</td>\n      <td>3</td>\n      <td>4</td>\n      <td>234</td>\n      <td>at risk</td>\n    </tr>\n    <tr>\n      <th>3</th>\n      <td>12349.0</td>\n      <td>19</td>\n      <td>1</td>\n      <td>1757.55</td>\n      <td>4</td>\n      <td>1</td>\n      <td>4</td>\n      <td>414</td>\n      <td>promising</td>\n    </tr>\n    <tr>\n      <th>4</th>\n      <td>12350.0</td>\n      <td>311</td>\n      <td>1</td>\n      <td>334.40</td>\n      <td>1</td>\n      <td>1</td>\n      <td>2</td>\n      <td>112</td>\n      <td>hibernating</td>\n    </tr>\n  </tbody>\n</table>\n</div>",
              "textData": null,
              "removedWidgets": [],
              "addedWidgets": {},
              "type": "htmlSandbox",
              "arguments": {}
            }
          }
        }
      ]
    },
    {
      "cell_type": "code",
      "metadata": {
        "application/vnd.databricks.v1+cell": {
          "title": "",
          "showTitle": false,
          "inputWidgets": {},
          "nuid": "a826a561-df76-4cb3-b9ac-f11d87e197b0"
        },
        "id": "ogEehfUAkGcJ",
        "outputId": "bb5915fe-e9df-412a-8491-830f98084dee"
      },
      "source": [
        "# небольшой анализ\n",
        "print(f\"Всего пользователей: {len(rfm)}\")\n",
        "print(\"--\" * 15)\n",
        "rfm.groupby(by=\"Segment\")[\"Segment\"].count().sort_values()"
      ],
      "execution_count": null,
      "outputs": [
        {
          "output_type": "display_data",
          "data": {
            "text/html": [
              "<style scoped>\n",
              "  .ansiout {\n",
              "    display: block;\n",
              "    unicode-bidi: embed;\n",
              "    white-space: pre-wrap;\n",
              "    word-wrap: break-word;\n",
              "    word-break: break-all;\n",
              "    font-family: \"Source Code Pro\", \"Menlo\", monospace;;\n",
              "    font-size: 13px;\n",
              "    color: #555;\n",
              "    margin-left: 4px;\n",
              "    line-height: 19px;\n",
              "  }\n",
              "</style>\n",
              "<div class=\"ansiout\">Всего пользователей: 4372\n",
              "------------------------------\n",
              "Out[100]: Segment\n",
              "can&#39;t loose              49\n",
              "new customers            60\n",
              "promising               151\n",
              "need attention          198\n",
              "at risk                 436\n",
              "about to sleep          439\n",
              "champions               578\n",
              "potential loyalists     603\n",
              "loyal customers         619\n",
              "hibernating            1239\n",
              "Name: Segment, dtype: int64</div>"
            ]
          },
          "metadata": {
            "tags": [],
            "application/vnd.databricks.v1+output": {
              "datasetInfos": [],
              "data": "<div class=\"ansiout\">Всего пользователей: 4372\n------------------------------\nOut[100]: Segment\ncan&#39;t loose              49\nnew customers            60\npromising               151\nneed attention          198\nat risk                 436\nabout to sleep          439\nchampions               578\npotential loyalists     603\nloyal customers         619\nhibernating            1239\nName: Segment, dtype: int64</div>",
              "removedWidgets": [],
              "addedWidgets": {},
              "type": "html",
              "arguments": {}
            }
          }
        }
      ]
    },
    {
      "cell_type": "code",
      "metadata": {
        "application/vnd.databricks.v1+cell": {
          "title": "",
          "showTitle": false,
          "inputWidgets": {},
          "nuid": "c53f9823-5e87-40e7-a9a2-212d58c023ee"
        },
        "id": "CWEIW8uwkGcK"
      },
      "source": [
        "# выгрузка данных в csv (через кнопку)\n",
        "display(rfm)"
      ],
      "execution_count": null,
      "outputs": []
    },
    {
      "cell_type": "code",
      "metadata": {
        "id": "kxBDZiS8Fg7T"
      },
      "source": [
        "# ссылка на дашборд в Tableau\n",
        "# https://public.tableau.com/profile/valerii.mamontov#!/vizhome/RMF_16089053326860/Dashboard"
      ],
      "execution_count": null,
      "outputs": []
    }
  ]
}